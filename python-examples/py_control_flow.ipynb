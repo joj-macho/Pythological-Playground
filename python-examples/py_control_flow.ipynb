{
 "cells": [
  {
   "attachments": {},
   "cell_type": "markdown",
   "metadata": {},
   "source": [
    "# Python Control Flow Examples\n",
    "\n",
    "Control flow in programming determines the order of statement execution within a code, and it primarily consists of two structures: branching statements (conditional statements) and looping structures (iterating statements)."
   ]
  },
  {
   "cell_type": "markdown",
   "metadata": {},
   "source": [
    "## Conditional Statements\n",
    "\n",
    "Conditional statements are used to execute different blocks of code based on whether a specified condition evaluates to true or false.\n",
    "\n",
    "- `if` Statement: Executes a block of code if the given condition is true.\n",
    "- `if-else` Statement: Executes one block of code if the condition is true and another block if it's false.\n",
    "- `if-elif-else` Statement: Allows testing multiple conditions in sequence.\n",
    "\n",
    "The ternary operator provides a concise way to write an `if-else` statement in a single line."
   ]
  },
  {
   "cell_type": "code",
   "execution_count": 15,
   "metadata": {},
   "outputs": [
    {
     "name": "stdout",
     "output_type": "stream",
     "text": [
      "x is greater than 5\n",
      "y is odd\n",
      "B\n",
      "Odd\n"
     ]
    }
   ],
   "source": [
    "# Example: Conditional 'if' statement\n",
    "x = 10\n",
    "if x > 5:\n",
    "    print('x is greater than 5')\n",
    "\n",
    "# Example: Conditional 'if-else' statement\n",
    "y = 3\n",
    "if y % 2 == 0:\n",
    "    print('y is even')\n",
    "else:\n",
    "    print('y is odd')\n",
    "\n",
    "# Example: Conditional 'if-elif-else' statement\n",
    "grade = 85\n",
    "if grade >= 90:\n",
    "    print('A')\n",
    "elif grade >= 80:\n",
    "    print('B')\n",
    "elif grade >= 70:\n",
    "    print('C')\n",
    "else:\n",
    "    print('F')\n",
    "\n",
    "# Example: Ternary operator\n",
    "is_even = True if num % 2 == 0 else False\n",
    "print('Even' if is_even else 'Odd')"
   ]
  },
  {
   "cell_type": "markdown",
   "metadata": {},
   "source": [
    "- Example 1: if the value of `x` is greater than 5, the statement within the `if` block is executed, printing 'x is greater than 5'.\n",
    "\n",
    "- Example 2: This example checks if `y` is even. If the condition is true, it prints 'y is even'; otherwise, it prints 'y is odd'.\n",
    "\n",
    "- Example 3: This example assigns a letter grade based on the value of `grade` using `if-elif-else` statements.\n",
    "\n",
    "- Example 4: The ternary operator assigns the string 'Even' if `is_even` is true; otherwise, it assigns 'Odd' based on the value of `num`."
   ]
  },
  {
   "cell_type": "markdown",
   "metadata": {},
   "source": [
    "## Testing Multiple Conditions\n",
    "\n",
    "Logical operators (`and`, `or`, `not`) are used to combine multiple conditions for more complex evaluations."
   ]
  },
  {
   "cell_type": "code",
   "execution_count": 9,
   "metadata": {},
   "outputs": [
    {
     "name": "stdout",
     "output_type": "stream",
     "text": [
      "It's a warm morning!\n"
     ]
    }
   ],
   "source": [
    "# Example: Testing multiple conditions with logical operators\n",
    "temperature = 25\n",
    "time_of_day = 'morning'\n",
    "\n",
    "if temperature > 20 and time_of_day == 'morning':\n",
    "    print(\"It's a warm morning!\")\n",
    "elif temperature <= 20 or time_of_day != 'morning':\n",
    "    print('Conditions not met.')"
   ]
  },
  {
   "cell_type": "markdown",
   "metadata": {},
   "source": [
    "This example uses logical operators `and` and `or` to test multiple conditions and prints the corresponding messages."
   ]
  },
  {
   "cell_type": "markdown",
   "metadata": {},
   "source": [
    "## Nested if-elif-else Statements\n",
    "\n",
    "Nested `if-elif-else` statements allow for more intricate conditional logic by placing one set of conditional statements inside another."
   ]
  },
  {
   "cell_type": "code",
   "execution_count": 10,
   "metadata": {},
   "outputs": [
    {
     "name": "stdout",
     "output_type": "stream",
     "text": [
      "Positive\n",
      "Odd\n"
     ]
    }
   ],
   "source": [
    "# Example: Nested if-elif-else statements\n",
    "num = 15\n",
    "if num > 0:\n",
    "    print('Positive')\n",
    "    if num % 2 == 0:\n",
    "        print('Even')\n",
    "    else:\n",
    "        print('Odd')\n",
    "elif num == 0:\n",
    "    print('Zero')\n",
    "else:\n",
    "    print('Negative')"
   ]
  },
  {
   "cell_type": "markdown",
   "metadata": {},
   "source": [
    "This example categorizes a number as positive, zero, or negative, and within the positive category, it further distinguishes between even and odd numbers."
   ]
  },
  {
   "cell_type": "markdown",
   "metadata": {},
   "source": [
    "## For Loop Statements\n",
    "\n",
    "`for` loops are used to iterate over a sequence (such as a range, list, or string).\n",
    "\n",
    "- Using `range()`: Generates a sequence of numbers.\n",
    "- Using `enumerate()`: Provides both the index and the value during iteration.\n"
   ]
  },
  {
   "cell_type": "code",
   "execution_count": 11,
   "metadata": {},
   "outputs": [
    {
     "name": "stdout",
     "output_type": "stream",
     "text": [
      "0\n",
      "1\n",
      "2\n",
      "3\n",
      "4\n",
      "Index 0: apple\n",
      "Index 1: banana\n",
      "Index 2: cherry\n"
     ]
    }
   ],
   "source": [
    "# Example: For loop using range()\n",
    "for i in range(5):\n",
    "    print(i)\n",
    "\n",
    "# Example: For loop with enumerate()\n",
    "fruits = ['apple', 'banana', 'cherry']\n",
    "for index, fruit in enumerate(fruits):\n",
    "    print(f'Index {index}: {fruit}')"
   ]
  },
  {
   "cell_type": "markdown",
   "metadata": {},
   "source": [
    "- Example: 1 This example prints the numbers from 0 to 4 using a `for` loop and the `range()` function.\n",
    "- Example: 2 This example uses `enumerate()` to iterate over a list of fruits, printing both the index and the fruit name during each iteration."
   ]
  },
  {
   "cell_type": "markdown",
   "metadata": {},
   "source": [
    "## While Loop Statements\n",
    "\n",
    "`while` loops repeatedly execute a block of code as long as a given condition is true.\n"
   ]
  },
  {
   "cell_type": "code",
   "execution_count": 12,
   "metadata": {},
   "outputs": [
    {
     "name": "stdout",
     "output_type": "stream",
     "text": [
      "0\n",
      "1\n",
      "2\n",
      "3\n",
      "4\n"
     ]
    }
   ],
   "source": [
    "# Example: While loop\n",
    "counter = 0\n",
    "while counter < 5:\n",
    "    print(counter)\n",
    "    counter += 1"
   ]
  },
  {
   "cell_type": "markdown",
   "metadata": {},
   "source": [
    "This example uses a `while` loop to print numbers from 0 to 4 until the condition `counter < 5` becomes false."
   ]
  },
  {
   "cell_type": "markdown",
   "metadata": {},
   "source": [
    "## Controlling Loop Execution\n",
    "\n",
    "- `break` Statement: Terminates the loop prematurely.\n",
    "- `continue` Statement: Skips the rest of the loop and moves to the next iteration.\n"
   ]
  },
  {
   "cell_type": "code",
   "execution_count": 13,
   "metadata": {},
   "outputs": [
    {
     "name": "stdout",
     "output_type": "stream",
     "text": [
      "0\n",
      "1\n",
      "2\n",
      "4\n",
      "5\n",
      "6\n",
      "7\n"
     ]
    }
   ],
   "source": [
    "# Example: Controlling loop execution with break and continue\n",
    "for i in range(10):\n",
    "    if i == 3:\n",
    "        continue  # Skip the rest of the loop for i=3\n",
    "    elif i == 8:\n",
    "        break  # Exit the loop when i=8\n",
    "    print(i)"
   ]
  },
  {
   "cell_type": "markdown",
   "metadata": {},
   "source": [
    "This example demonstrates the use of `continue` to skip the rest of the loop when `i` is 3, and `break` to exit the loop when `i` is 8."
   ]
  },
  {
   "cell_type": "markdown",
   "metadata": {},
   "source": [
    "## Nested Loops\n",
    "\n",
    "Nested loops involve placing one loop inside another. The inner loop is executed for each iteration of the outer loop.\n"
   ]
  },
  {
   "cell_type": "code",
   "execution_count": 14,
   "metadata": {},
   "outputs": [
    {
     "name": "stdout",
     "output_type": "stream",
     "text": [
      "(0, 0)\n",
      "(0, 1)\n",
      "(1, 0)\n",
      "(1, 1)\n",
      "(2, 0)\n",
      "(2, 1)\n"
     ]
    }
   ],
   "source": [
    "# Example: Nested loops\n",
    "for i in range(1, 4):\n",
    "    print('i =', i)\n",
    "    for j in range(4, 7):\n",
    "        print('  j =', j)"
   ]
  },
  {
   "cell_type": "markdown",
   "metadata": {},
   "source": [
    "Explanation: This example uses nested loops to print combinations of `i` and `j`, demonstrating how the inner loop executes for each value of the outer loop variable `i`.\n"
   ]
  }
 ],
 "metadata": {
  "kernelspec": {
   "display_name": ".venv",
   "language": "python",
   "name": "python3"
  },
  "language_info": {
   "codemirror_mode": {
    "name": "ipython",
    "version": 3
   },
   "file_extension": ".py",
   "mimetype": "text/x-python",
   "name": "python",
   "nbconvert_exporter": "python",
   "pygments_lexer": "ipython3",
   "version": "3.11.5"
  },
  "orig_nbformat": 4
 },
 "nbformat": 4,
 "nbformat_minor": 2
}
