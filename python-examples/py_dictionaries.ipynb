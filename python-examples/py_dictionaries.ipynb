{
 "cells": [
  {
   "attachments": {},
   "cell_type": "markdown",
   "metadata": {},
   "source": [
    "# Python Dictionary Data Types Examples\n",
    "\n",
    "<p>Dictionaries are powerful data structures that allow you to store and retrieve data using key-value pairs.</p>"
   ]
  },
  {
   "cell_type": "markdown",
   "metadata": {},
   "source": [
    "## Introduction to Dictionaries"
   ]
  },
  {
   "cell_type": "code",
   "execution_count": 4,
   "metadata": {},
   "outputs": [
    {
     "name": "stdout",
     "output_type": "stream",
     "text": [
      "Accessing Value by Key Output: Alice\n",
      "Modified Dictionary Output: {'name': 'Alice', 'age': 21, 'grade': 'A', 'school': 'XYZ High School'}\n"
     ]
    }
   ],
   "source": [
    "# Example 1: Creating and Accessing Dictionary\n",
    "student = {\"name\": \"Alice\", \"age\": 20, \"grade\": \"A\"}\n",
    "print(\"Accessing Value by Key Output:\", student[\"name\"]) # Accessing value by key\n",
    "\n",
    "# Example 2: Modifying Dictionary\n",
    "student[\"age\"] = 21 # Modifying value by key\n",
    "student[\"school\"] = \"XYZ High School\" # Adding a new key-value pair\n",
    "print(\"Modified Dictionary Output:\", student)"
   ]
  },
  {
   "cell_type": "markdown",
   "metadata": {},
   "source": [
    "- In Example 1, a dictionary named <code>student</code> is created with key-value pairs representing a student's information such as name, age, and grade. The value associated with a specific key can be accessed using the square bracket notation <code>[]</code>. In this case, we access the value associated with the key \"name\" using <code>student[\"name\"]</code>, which gives us the output \"Alice\".\n",
    "\n",
    "- Example 2 demonstrates how to modify a dictionary. We update the value associated with the key \"age\" to 21 by assigning a new value to it using <code>student[\"age\"] = 21</code>. Additionally, we add a new key-value pair \"school\": \"XYZ High School\" to the dictionary using <code>student[\"school\"] = \"XYZ High School\"</code>. The resulting modified dictionary is printed as the output."
   ]
  },
  {
   "cell_type": "markdown",
   "metadata": {},
   "source": [
    "## Dictionary Iteration and Manipulation"
   ]
  },
  {
   "cell_type": "code",
   "execution_count": 5,
   "metadata": {},
   "outputs": [
    {
     "name": "stdout",
     "output_type": "stream",
     "text": [
      "Key Output: name\n",
      "Key Output: age\n",
      "Key Output: grade\n",
      "Key-Value Output: name Alice\n",
      "Key-Value Output: age 20\n",
      "Key-Value Output: grade A\n",
      "Original Dictionary Output: {'name': 'Bob', 'age': 20, 'grade': 'A'}\n",
      "Copied Dictionary Output: {'name': 'Alice', 'age': 20, 'grade': 'A'}\n",
      "Merged Dictionary Output: {'name': 'Alice', 'age': 20, 'grade': 'A', 'school': 'XYZ High School'}\n"
     ]
    }
   ],
   "source": [
    "# Example 1: Iterating over Dictionary\n",
    "student = {\"name\": \"Alice\", \"age\": 20, \"grade\": \"A\"}\n",
    "for key in student: # Iterating over keys\n",
    "    print(\"Key Output:\", key)\n",
    "\n",
    "for key, value in student.items(): # Iterating over key-value pairs\n",
    "    print(\"Key-Value Output:\", key, value)\n",
    "\n",
    "# Example 2: Copying Dictionaries\n",
    "student = {\"name\": \"Alice\", \"age\": 20, \"grade\": \"A\"}\n",
    "copy_student = student.copy() # Creating a shallow copy of the dictionary\n",
    "student[\"name\"] = \"Bob\" # Modifying the original dictionary\n",
    "print(\"Original Dictionary Output:\", student)\n",
    "print(\"Copied Dictionary Output:\", copy_student)\n",
    "\n",
    "# Example 3: Merging Dictionaries\n",
    "student = {\"name\": \"Alice\", \"age\": 20}\n",
    "info = {\"grade\": \"A\", \"school\": \"XYZ High School\"}\n",
    "merged = {**student, **info} # Merging dictionaries using the unpacking operator\n",
    "print(\"Merged Dictionary Output:\", merged)"
   ]
  },
  {
   "cell_type": "markdown",
   "metadata": {},
   "source": [
    "- Example 1 showcases how to iterate over a dictionary. We create a dictionary <code>student</code> with key-value pairs representing a student's information. Using a <code>for</code> loop, we iterate over the keys of the dictionary and print each key. Then, we use the <code>items()</code> method to iterate over the key-value pairs and print each key-value pair.\n",
    "\n",
    "- Example 2 demonstrates how to create a copy of a dictionary. Create a dictionary <code>student</code> with key-value pairs representing a student's information. Then, create a copy of the dictionary using the <code>copy()</code> method, resulting in a new dictionary <code>copy_student</code> with the same key-value pairs. Modifying the original dictionary does not affect the copied dictionary, as demonstrated by changing the value associated with the key \"name\" in the original dictionary. The output displays the original dictionary and the copied dictionary.\n",
    "\n",
    "- Example 3 shows how to merge two dictionaries into a single dictionary. Create two dictionaries <code>student</code> and <code>info</code> representing different sets of information. By using the unpacking operator <code>**</code> and merging the dictionaries as <code>{**student, **info}</code>, we create a new dictionary <code>merged</code> that contains all the key-value pairs from both dictionaries. The output displays the merged dictionary."
   ]
  },
  {
   "cell_type": "markdown",
   "metadata": {},
   "source": [
    "## Dictionary Operations and Methods"
   ]
  },
  {
   "cell_type": "code",
   "execution_count": 6,
   "metadata": {},
   "outputs": [
    {
     "name": "stdout",
     "output_type": "stream",
     "text": [
      "Length of Dictionary Output: 3\n",
      "Keys of Dictionary Output: dict_keys(['name', 'age', 'grade'])\n",
      "Key Existence Check Output: True\n",
      "Removed Value Output: A\n",
      "Values of Dictionary Output: dict_values(['Alice', 20, 'A'])\n",
      "Value Existence Check Output: True\n",
      "Items of Dictionary Output: dict_items([('name', 'Alice'), ('age', 20), ('grade', 'A')])\n"
     ]
    }
   ],
   "source": [
    "# Example 1: Dictionary Length and Keys\n",
    "student = {\"name\": \"Alice\", \"age\": 20, \"grade\": \"A\"}\n",
    "length = len(student) # Getting the length of the dictionary\n",
    "keys = student.keys() # Getting the keys of the dictionary\n",
    "print(\"Length of Dictionary Output:\", length)\n",
    "print(\"Keys of Dictionary Output:\", keys)\n",
    "\n",
    "# Example 2: Checking Key Existence and Removing Key-Value Pair\n",
    "student = {\"name\": \"Alice\", \"age\": 20, \"grade\": \"A\"}\n",
    "has_age = \"age\" in student # Checking if a key exists\n",
    "removed_grade = student.pop(\"grade\") # Removing a key-value pair by key\n",
    "print(\"Key Existence Check Output:\", has_age)\n",
    "print(\"Removed Value Output:\", removed_grade)\n",
    "\n",
    "# Example 3: Dictionary Values\n",
    "student = {\"name\": \"Alice\", \"age\": 20, \"grade\": \"A\"}\n",
    "values = student.values() # Getting the values of the dictionary\n",
    "is_present = \"Alice\" in values # Checking if a value exists\n",
    "print(\"Values of Dictionary Output:\", values)\n",
    "print(\"Value Existence Check Output:\", is_present)\n",
    "\n",
    "# Example 4: Dictionary Items\n",
    "student = {\"name\": \"Alice\", \"age\": 20, \"grade\": \"A\"}\n",
    "items = student.items() # Getting the key-value pairs of the dictionary\n",
    "print(\"Items of Dictionary Output:\", items)"
   ]
  },
  {
   "cell_type": "markdown",
   "metadata": {},
   "source": [
    "- In Example 1, we first create a dictionary <code>student</code> with key-value pairs representing a student's information. We use the <code>len()</code> function to get the length of the dictionary, which gives us the output 3. Then, we use the <code>keys()</code> method to retrieve a view object containing all the keys of the dictionary. The output displays the keys of the dictionary.\n",
    "\n",
    "- In Example 2, we check if the key \"age\" exists in the <code>student</code> dictionary using the <code>in</code> operator. The output indicates whether the key is present or not. We also demonstrate removing a key-value pair from the dictionary using the <code>pop()</code> method. By calling <code>student.pop(\"grade\")</code>, the key-value pair with the key \"grade\" is removed from the dictionary and the value associated with the key is returned as the output.\n",
    "\n",
    "- Example 3 focuses on accessing the values of a dictionary. We first create a dictionary <code>student</code> with key-value pairs representing a student's information. Using the <code>values()</code> method, we retrieve a view object containing all the values of the dictionary. Then, we check if the value \"Alice\" is present in the values using the <code>in</code> operator. The output displays the values of the dictionary and indicates whether the value \"Alice\" is present or not.\n",
    "\n",
    "- In Example 4, we demonstrate accessing the key-value pairs of a dictionary using the <code>items()</code> method. By calling <code>student.items()</code>, we obtain a view object containing all the key-value pairs in the dictionary. The output displays the key-value pairs of the dictionary."
   ]
  },
  {
   "cell_type": "code",
   "execution_count": null,
   "metadata": {},
   "outputs": [],
   "source": []
  }
 ],
 "metadata": {
  "kernelspec": {
   "display_name": "Python 3",
   "language": "python",
   "name": "python3"
  },
  "language_info": {
   "codemirror_mode": {
    "name": "ipython",
    "version": 3
   },
   "file_extension": ".py",
   "mimetype": "text/x-python",
   "name": "python",
   "nbconvert_exporter": "python",
   "pygments_lexer": "ipython3",
   "version": "3.10.11"
  },
  "orig_nbformat": 4
 },
 "nbformat": 4,
 "nbformat_minor": 2
}
