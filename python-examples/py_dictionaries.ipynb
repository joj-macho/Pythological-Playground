{
 "cells": [
  {
   "attachments": {},
   "cell_type": "markdown",
   "metadata": {},
   "source": [
    "# Python Dictionary Data Types Examples\n",
    "\n",
    "<p>Dictionaries in Python are versatile data structures that allow you to store key-value pairs. Each key in a dictionary must be unique, and it is associated with a specific value. Dictionaries provide a way to organize and retrieve data efficiently.</p>\n",
    "\n",
    "<p>Below are examples illustrating the initialization, basic operations, and common functions associated with dictionaries.</p>"
   ]
  },
  {
   "cell_type": "markdown",
   "metadata": {},
   "source": [
    "## Dictionary Initialization and Basic Operations"
   ]
  },
  {
   "cell_type": "code",
   "execution_count": 3,
   "metadata": {},
   "outputs": [
    {
     "name": "stdout",
     "output_type": "stream",
     "text": [
      "Student Dictionary: {'name': 'John Doe', 'age': 21, 'grades': {'math': 90, 'english': 88, 'biology': 95}, 'gender': 'Male'}\n",
      "Student Name: John Doe\n",
      "Math Grade: 90\n",
      "Removed Major: Computer Science\n",
      "Removed History Grade: 92\n"
     ]
    }
   ],
   "source": [
    "# Example: Initializing a Dictionary\n",
    "student = {\n",
    "    'name': 'John Doe',\n",
    "    'age': 20,\n",
    "    'major': 'Computer Science',\n",
    "    'grades': {'math': 90, 'english': 85, 'history': 92}\n",
    "}\n",
    "\n",
    "# Example: Accessing Values in a Dictionary\n",
    "student_name = student['name']\n",
    "math_grade = student['grades']['math']\n",
    "\n",
    "# Example: Modifying Values in a Dictionary\n",
    "student['age'] = 21\n",
    "student['grades']['english'] = 88\n",
    "\n",
    "# Example: Adding new Key-Value Pairs to a Dictionary\n",
    "student['gender'] = 'Male'\n",
    "student['grades']['biology'] = 95\n",
    "\n",
    "# Example: Removing Key-Value Pairs from a Dictionary\n",
    "removed_major = student.pop('major')\n",
    "removed_history_grade = student['grades'].pop('history')\n",
    "\n",
    "print('Student Dictionary:', student)\n",
    "print('Student Name:', student_name)\n",
    "print('Math Grade:', math_grade)\n",
    "print('Removed Major:', removed_major)\n",
    "print('Removed History Grade:', removed_history_grade)"
   ]
  },
  {
   "cell_type": "markdown",
   "metadata": {},
   "source": [
    "- Example 1 demonstrates the creation of a dictionary named `student` with keys like 'name', 'age', 'major', and 'grades'. The 'grades' key has an associated dictionary representing grades in different subjects.\n",
    "\n",
    "- Example 2 shows how to access values in a dictionary using keys. The student's name and math grade are accessed.\n",
    "\n",
    "- Example 3 illustrates modifying values in a dictionary. The student's age is updated, and the English grade is modified.\n",
    "\n",
    "- Example 4 adds new key-value pairs to the dictionary. The student's gender is added, and a biology grade is included in the 'grades' dictionary.\n",
    "\n",
    "- Example 5 demonstrates removing key-value pairs from the dictionary. The major and history grade are removed using the `pop()` method."
   ]
  },
  {
   "cell_type": "markdown",
   "metadata": {},
   "source": [
    "## Additional Dictionary Concepts and Functions"
   ]
  },
  {
   "cell_type": "code",
   "execution_count": 5,
   "metadata": {},
   "outputs": [
    {
     "name": "stdout",
     "output_type": "stream",
     "text": [
      "name: John Doe\n",
      "age: 21\n",
      "grades: {'math': 90, 'english': 88, 'biology': 95}\n",
      "gender: Male\n",
      "Alternate Student: {'name': 'Jane Doe', 'age': 22, 'major': 'Physics'}\n",
      "Grades Dictionary: {'math': 91, 'english': 87, 'biology': 94}\n",
      "Default Grades: {'math': 90, 'english': 90, 'biology': 90}\n",
      "Zipped Student: {'name': 'Sam Smith', 'age': 25, 'major': 'Chemistry'}\n",
      "Updated Student: {}\n",
      "Sorted Grades: [('chemistry', 96)]\n",
      "English Grade: 85\n",
      "Removed Subject: None\n",
      "Removed Item: ('grades', {'chemistry': 96, 'english': 85})\n",
      "Cleared Student: {}\n",
      "Copied Student: {}\n"
     ]
    }
   ],
   "source": [
    "# Example: Checking for Key Existence\n",
    "has_minor_key = 'minor' in student\n",
    "has_english_grade = 'english' in student['grades']\n",
    "\n",
    "# Example: Getting Keys and Values\n",
    "student_keys = student.keys()\n",
    "student_values = student.values()\n",
    "\n",
    "# Example: Dictionary Length\n",
    "num_student_entries = len(student)\n",
    "\n",
    "# Example: Dictionary Iteration\n",
    "for key, value in student.items():\n",
    "    print(f'{key}: {value}')\n",
    "\n",
    "# Example: Creating a Dictionary with `dict()`\n",
    "alternate_student = dict(name='Jane Doe', age=22, major='Physics')\n",
    "\n",
    "# Example: Using a List of Tuples\n",
    "grades_tuples = [('math', 91), ('english', 87), ('biology', 94)]\n",
    "grades_dict = dict(grades_tuples)\n",
    "\n",
    "# Example: Using the `fromkeys()` Method\n",
    "subjects = ['math', 'english', 'biology']\n",
    "default_grades = dict.fromkeys(subjects, 90)\n",
    "\n",
    "# Example: Creating a Dictionary with `zip()`\n",
    "keys = ['name', 'age', 'major']\n",
    "values = ['Sam Smith', 25, 'Chemistry']\n",
    "zipped_student = dict(zip(keys, values))\n",
    "\n",
    "# Example: Updating values with the `update()` Method\n",
    "student.update({'gender': 'Non-Binary', 'grades': {'chemistry': 96}})\n",
    "\n",
    "# Example: Sorting values with the `sorted()` Function\n",
    "sorted_grades = sorted(student['grades'].items(), key=lambda x: x[1], reverse=True)\n",
    "\n",
    "# Example: Retrieving values with the `setdefault()` Method\n",
    "english_grade = student['grades'].setdefault('english', 85)\n",
    "\n",
    "# Example: Removing values with the `del` Statement\n",
    "del student['gender']\n",
    "\n",
    "# Example: Removing values with the `pop()` Method\n",
    "removed_subject = student['grades'].pop('biology', None)\n",
    "\n",
    "# Example: Removing key-value pairs with the `popitem()` Method\n",
    "removed_item = student.popitem()\n",
    "\n",
    "# Example: Clearing the Dictionary with the `clear()` Method\n",
    "student.clear()\n",
    "\n",
    "# Example: Copying Dictionaries with the `copy()` Method\n",
    "copied_student = student.copy()\n",
    "\n",
    "print('Alternate Student:', alternate_student)\n",
    "print('Grades Dictionary:', grades_dict)\n",
    "print('Default Grades:', default_grades)\n",
    "print('Zipped Student:', zipped_student)\n",
    "print('Updated Student:', student)\n",
    "print('Sorted Grades:', sorted_grades)\n",
    "print('English Grade:', english_grade)\n",
    "print('Removed Subject:', removed_subject)\n",
    "print('Removed Item:', removed_item)\n",
    "print('Cleared Student:', student)\n",
    "print('Copied Student:', copied_student)\n"
   ]
  },
  {
   "cell_type": "markdown",
   "metadata": {},
   "source": [
    "- Example 1 checks for the existence of keys in the dictionary. It uses the `in` keyword to check if 'minor' exists in the main dictionary and if 'english' exists in the 'grades' dictionary.\n",
    "\n",
    "- Example 2 retrieves keys and values from the dictionary using the `keys()` and `values()` methods.\n",
    "\n",
    "- Example 3 finds the length of the dictionary using the `len()` function.\n",
    "\n",
    "- Example 4 iterates over the dictionary using the `items()` method, printing each key-value pair.\n",
    "\n",
    "- Examples 5-8 demonstrate different ways to create dictionaries using `dict()`, a list of tuples, the `fromkeys()` method, and the `zip()` function.\n",
    "\n",
    "- Example 9 updates values in the dictionary using the `update()` method.\n",
    "\n",
    "- Example 10 sorts the grades dictionary based on values using the `sorted()` function.\n",
    "\n",
    "- Example 11 retrieves the English grade from the 'grades' dictionary using the `setdefault()` method.\n",
    "\n",
    "- Example 12 removes the 'gender' key from the main dictionary using the `del` statement.\n",
    "\n",
    "- Example 13 removes the 'biology' key from the 'grades' dictionary using the `pop()` method.\n",
    "\n",
    "- Example 14 removes a key-value pair from the main dictionary using the `popitem()` method.\n",
    "\n",
    "- Example 15 clears all key-value pairs from the main dictionary using the `clear()` method.\n",
    "\n",
    "- Example 16 copies the main dictionary using the `copy()` method."
   ]
  }
 ],
 "metadata": {
  "kernelspec": {
   "display_name": "Python 3",
   "language": "python",
   "name": "python3"
  },
  "language_info": {
   "codemirror_mode": {
    "name": "ipython",
    "version": 3
   },
   "file_extension": ".py",
   "mimetype": "text/x-python",
   "name": "python",
   "nbconvert_exporter": "python",
   "pygments_lexer": "ipython3",
   "version": "3.11.5"
  },
  "orig_nbformat": 4
 },
 "nbformat": 4,
 "nbformat_minor": 2
}
