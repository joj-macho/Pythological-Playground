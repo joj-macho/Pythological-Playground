{
 "cells": [
  {
   "cell_type": "markdown",
   "metadata": {},
   "source": [
    "# Python Lists & Tuples Data Types Examples\n",
    "\n",
    "<p>Lists are versatile data structures in Python that allow you to store and organize collections of items. You can add, remove, and modify elements in a list, as well as perform various operations on the list.</p>\n",
    "\n",
    "<p>Tuples are similar to lists, but they are immutable, meaning their elements cannot be changed once defined. Tuples are useful for representing collections of related data that should not be modified.</p>\n",
    "\n",
    "<p>Below are some examples of using Lists and Tuples</p>"
   ]
  },
  {
   "cell_type": "markdown",
   "metadata": {},
   "source": [
    "## List Initialization and Basic Operations"
   ]
  },
  {
   "cell_type": "code",
   "execution_count": 1,
   "metadata": {},
   "outputs": [
    {
     "name": "stdout",
     "output_type": "stream",
     "text": [
      "Initial Fruit List: ['apple', 'banana', 'cherry', 'date']\n",
      "First Fruit: apple\n",
      "Last Fruit: date\n",
      "Fruit List after Modifying: ['apple', 'grape', 'cherry', 'date']\n",
      "Fruit List after Adding Elements: ['apple', 'grape', 'kiwi', 'cherry', 'date', 'orange']\n",
      "Removed Element: orange\n",
      "Fruit List after Removing Elements: ['apple', 'grape', 'kiwi', 'date']\n",
      "Length of the List: 4\n",
      "Fruit List After Sorting: ['apple', 'date', 'grape', 'kiwi']\n",
      "Accessing an element in a nested list Output: 2\n",
      "Updated Matrix Output: [[1, 2, 3], [4, 5, 10], [7, 8, 9, 11]]\n",
      "Extracted Sublist Output: [3, 4, 5, 6, 7]\n",
      "Updated Numbers List Output: [10, 9, 8, 7, 6, 5, 4, 3, 2, 1, 11, 12, 13]\n",
      "Count of 5 Output: 1\n"
     ]
    }
   ],
   "source": [
    "# Example: Initializing a List\n",
    "fruits = ['apple', 'banana', 'cherry', 'date']\n",
    "print('Initial Fruit List:', fruits)\n",
    "\n",
    "# Example: Accessing Elements in a List\n",
    "print('First Fruit:', fruits[0])\n",
    "print('Last Fruit:', fruits[-1])\n",
    "\n",
    "# Example: Modifying Elements in a List\n",
    "fruits[1] = 'grape'\n",
    "print('Fruit List after Modifying:', fruits)\n",
    "\n",
    "# Example: Adding Elements to a List\n",
    "fruits.append('orange')\n",
    "fruits.insert(2, 'kiwi')\n",
    "print('Fruit List after Adding Elements:', fruits)\n",
    "\n",
    "# Example: Removing Elements from a List\n",
    "fruits.remove('cherry')\n",
    "popped_fruit = fruits.pop()\n",
    "print('Removed Element:', popped_fruit)\n",
    "print('Fruit List after Removing Elements:', fruits)"
   ]
  },
  {
   "cell_type": "markdown",
   "metadata": {},
   "source": [
    "- Example 1 and example 2 demonstrates creating a list of fruits and accessing elements by index. Lists in Python are 0-indexed, so the first element is accessed using index 0, and the last element is accessed using index -1.\n",
    "\n",
    "- Example 3 and 4 showcases modifying a list by changing an element, adding an element to the end using the <code>append()</code> method, and inserting an element at a specific position using the <code>insert()</code> method.\n",
    "\n",
    "- Example 5 illustrates removing elements from a list using the <code>remove()</code> method to delete a specific element and the <code>pop()</code> method to remove the last element and return it."
   ]
  },
  {
   "cell_type": "code",
   "execution_count": 4,
   "metadata": {},
   "outputs": [
    {
     "name": "stdout",
     "output_type": "stream",
     "text": [
      "Subset of Fruits: ['banana', 'cherry', 'date', 'elderberry']\n",
      "Every Second Fruit: ['apple', 'cherry', 'elderberry', 'grape']\n",
      "Last Three Fruits: ['elderberry', 'fig', 'grape']\n",
      "\n",
      "Intial Matrix List: [[1, 2, 3], [4, 5, 6], [7, 8, 9]]\n",
      "Accessing an element in a nested list Output: 2\n",
      "Updated Matrix Output: [[1, 2, 3], [4, 5, 10], [7, 8, 9, 11]]\n",
      "Extracted Sublist Output: [3, 4, 5, 6, 7]\n",
      "Updated Numbers List Output: [1, 2, 3, 4, 5, 6, 7, 8, 9, 10]\n",
      "Count of 5 Output: 1\n"
     ]
    }
   ],
   "source": [
    "# Example: Slicing Elements in a List\n",
    "fruits = ['apple', 'banana', 'cherry', 'date', 'elderberry', 'fig', 'grape']\n",
    "subset_fruits = fruits[1:5]  # Slicing a subset of elements\n",
    "every_second_fruit = fruits[::2]  # Slicing with a step of 2\n",
    "last_three_fruits = fruits[-3:]  # Slicing the last three elements\n",
    "\n",
    "print('Subset of Fruits:', subset_fruits)\n",
    "print('Every Second Fruit:', every_second_fruit)\n",
    "print('Last Three Fruits:', last_three_fruits)\n",
    "print()\n",
    "\n",
    "# Example: Nesting Lists\n",
    "matrix = [[1, 2, 3], [4, 5, 6], [7, 8, 9]]\n",
    "print('Intial Matrix List:', matrix)\n",
    "print('Accessing an element in a nested list Output:', matrix[0][1])  # Accessing an element in a nested list\n",
    "\n",
    "# Example: Modifying Elements in Nested Lists\n",
    "matrix[1][2] = 10  # Modifying an element in a nested list\n",
    "matrix[2].append(11)  # Adding an element to a nested list\n",
    "\n",
    "# Example: Extracting Sublists using Slicing\n",
    "numbers = [1, 2, 3, 4, 5, 6, 7, 8, 9, 10]\n",
    "sublist = numbers[2:7]  # Extracting a sublist using slicing\n",
    "\n",
    "print('Updated Matrix Output:', matrix)\n",
    "print('Extracted Sublist Output:', sublist)\n",
    "print('Updated Numbers List Output:', numbers)\n",
    "print('Count of 5 Output:', count_of_5)"
   ]
  },
  {
   "cell_type": "markdown",
   "metadata": {},
   "source": [
    "- Example 1 demonstrates slicing a subset of elements from the fruits list using the notation `fruits[start:stop]`.\n",
    "    - shows slicing the list with a step of 2 using `fruits[::2]`.\n",
    "    - slices the last three elements using negative indexing and `fruits[-3:]`.\n",
    "\n",
    "\n",
    "- Example 2 demonstrates creating and accessing nested lists, where each sublist represents a row in the matrix. The element at index 0 of the first sublist can be accessed using <code>matrix[0][1]</code>.\n",
    "    - showcases modifying elements in nested lists using the <code>append()</code> method to add the element 11 to the third sublist.\n",
    "    - illustrates list slicing, where a sublist named <code>sublist</code> is extracted from the <code>numbers</code> list using slicing. The sublist includes elements from index 2 to index 6 (exclusive)."
   ]
  },
  {
   "cell_type": "markdown",
   "metadata": {},
   "source": [
    "## Additional List Operations, Methods, and Functions"
   ]
  },
  {
   "cell_type": "code",
   "execution_count": 6,
   "metadata": {},
   "outputs": [
    {
     "name": "stdout",
     "output_type": "stream",
     "text": [
      "Concatenated Lists: ['apple', 'banana', 'cherry', 'date', 'elderberry', 'fig', 'grape', 'kiwi', 'lemon', 'mango']\n",
      "Copied Fruits: ['apple', 'banana', 'cherry', 'date', 'elderberry', 'fig', 'grape']\n",
      "Is \"Apple\" Present? True\n",
      "Is \"Watermelon\" Present? False\n",
      "Number of Fruits: 7\n",
      "Sorted Fruits: ['apple', 'banana', 'cherry', 'date', 'elderberry', 'fig', 'grape']\n",
      "Reversed Fruits: ['grape', 'fig', 'elderberry', 'date', 'cherry', 'banana', 'apple']\n",
      "Minimum Fruit: apple\n",
      "Maximum Fruit: grape\n"
     ]
    }
   ],
   "source": [
    "# Example: Concatenating Lists\n",
    "more_fruits = ['kiwi', 'lemon', 'mango']\n",
    "all_fruits = fruits + more_fruits\n",
    "\n",
    "# Example: Replicating Lists\n",
    "copied_fruits = fruits.copy()\n",
    "\n",
    "# Example: Checking Membership in Lists\n",
    "is_apple_present = 'apple' in fruits\n",
    "is_watermelon_present = 'watermelon' in fruits\n",
    "\n",
    "# Example: Finding the Length of Lists\n",
    "num_fruits = len(fruits)\n",
    "\n",
    "# Example: Sorting Lists\n",
    "sorted_fruits = sorted(fruits)\n",
    "\n",
    "# Example: Reversing Lists\n",
    "reversed_fruits = list(reversed(fruits))\n",
    "\n",
    "# Example: Finding Minimum and Maximum Elements in Lists\n",
    "min_fruit = min(fruits)\n",
    "max_fruit = max(fruits)\n",
    "\n",
    "print('Concatenated Lists:', all_fruits)\n",
    "print('Copied Fruits:', copied_fruits)\n",
    "print('Is \"Apple\" Present?', is_apple_present)\n",
    "print('Is \"Watermelon\" Present?', is_watermelon_present)\n",
    "print('Number of Fruits:', num_fruits)\n",
    "print('Sorted Fruits:', sorted_fruits)\n",
    "print('Reversed Fruits:', reversed_fruits)\n",
    "print('Minimum Fruit:', min_fruit)\n",
    "print('Maximum Fruit:', max_fruit)"
   ]
  },
  {
   "cell_type": "markdown",
   "metadata": {},
   "source": [
    "- Example 1 demonstrates concatenating two lists using the `+` operator.\n",
    "- Example 2 replicates the `fruits` list using the `copy()` method.\n",
    "- Example 3 checks for membership using the `in` keyword.\n",
    "- Example 4 finds the length of the `fruits` list using the `len()` function.\n",
    "- Example 5 sorts the list using the `sorted()` function.\n",
    "- Example 6 reverses the order of elements using the `reversed()` function.\n",
    "- Example 7 finds the minimum and maximum elements in the list using the `min()` and `max()` functions."
   ]
  },
  {
   "cell_type": "markdown",
   "metadata": {},
   "source": [
    "## Tuple Initialization and Basic Operations"
   ]
  },
  {
   "cell_type": "code",
   "execution_count": 7,
   "metadata": {},
   "outputs": [
    {
     "name": "stdout",
     "output_type": "stream",
     "text": [
      "Initial Color Tuple: ('red', 'green', 'blue', 'yellow')\n",
      "First Color: red\n",
      "Last Color: yellow\n"
     ]
    },
    {
     "ename": "TypeError",
     "evalue": "'tuple' object does not support item assignment",
     "output_type": "error",
     "traceback": [
      "\u001b[0;31m---------------------------------------------------------------------------\u001b[0m",
      "\u001b[0;31mTypeError\u001b[0m                                 Traceback (most recent call last)",
      "Cell \u001b[0;32mIn[7], line 11\u001b[0m\n\u001b[1;32m      7\u001b[0m \u001b[39mprint\u001b[39m(\u001b[39m'\u001b[39m\u001b[39mLast Color:\u001b[39m\u001b[39m'\u001b[39m, colors[\u001b[39m-\u001b[39m\u001b[39m1\u001b[39m])\n\u001b[1;32m      9\u001b[0m \u001b[39m# Example: Immutable Nature of Tuples\u001b[39;00m\n\u001b[1;32m     10\u001b[0m \u001b[39m# The following line would result in an error as tuples are immutable.\u001b[39;00m\n\u001b[0;32m---> 11\u001b[0m colors[\u001b[39m1\u001b[39;49m] \u001b[39m=\u001b[39m \u001b[39m'\u001b[39m\u001b[39morange\u001b[39m\u001b[39m'\u001b[39m\n",
      "\u001b[0;31mTypeError\u001b[0m: 'tuple' object does not support item assignment"
     ]
    }
   ],
   "source": [
    "# Example: Initializing a Tuple\n",
    "colors = ('red', 'green', 'blue', 'yellow')\n",
    "print('Initial Color Tuple:', colors)\n",
    "\n",
    "# Example: Accessing Elements in a Tuple\n",
    "print('First Color:', colors[0])\n",
    "print('Last Color:', colors[-1])\n",
    "\n",
    "# Example: Immutable Nature of Tuples\n",
    "# The following line would result in an error as tuples are immutable.\n",
    "colors[1] = 'orange'"
   ]
  },
  {
   "cell_type": "markdown",
   "metadata": {},
   "source": [
    "- Example 1 and 2 demonstrate creating a tuple of colors and accessing elements by index. Tuples, like lists, are 0-indexed.\n",
    "\n",
    "- Example 3 illustrates the immutable nature of tuples. Attempting to change an element in a tuple will result in an error."
   ]
  },
  {
   "cell_type": "markdown",
   "metadata": {},
   "source": [
    "## Additional Tuple Operations and Functions"
   ]
  },
  {
   "cell_type": "code",
   "execution_count": 8,
   "metadata": {},
   "outputs": [
    {
     "name": "stdout",
     "output_type": "stream",
     "text": [
      "Concatenated Tuples: ('red', 'green', 'blue', 'yellow', 'purple', 'orange', 'pink')\n",
      "Copied Colors: ('red', 'green', 'blue', 'yellow')\n",
      "Is \"Red\" Present? True\n",
      "Is \"Brown\" Present? False\n",
      "Number of Colors: 4\n",
      "Sorted Colors: ('blue', 'green', 'red', 'yellow')\n",
      "Reversed Colors: ('yellow', 'blue', 'green', 'red')\n",
      "Minimum Color: blue\n",
      "Maximum Color: yellow\n"
     ]
    }
   ],
   "source": [
    "# Example: Concatenating Tuples\n",
    "more_colors = ('purple', 'orange', 'pink')\n",
    "all_colors = colors + more_colors\n",
    "\n",
    "# Example: Replicating Tuples\n",
    "copied_colors = colors[:]\n",
    "\n",
    "# Example: Checking Membership in Tuples\n",
    "is_red_present = 'red' in colors\n",
    "is_brown_present = 'brown' in colors\n",
    "\n",
    "# Example: Finding the Length of Tuples\n",
    "num_colors = len(colors)\n",
    "\n",
    "# Example: Sorting Tuples\n",
    "sorted_colors = tuple(sorted(colors))\n",
    "\n",
    "# Example: Reversing Tuples\n",
    "reversed_colors = tuple(reversed(colors))\n",
    "\n",
    "# Example: Finding Minimum and Maximum Elements in Tuples\n",
    "min_color = min(colors)\n",
    "max_color = max(colors)\n",
    "\n",
    "print('Concatenated Tuples:', all_colors)\n",
    "print('Copied Colors:', copied_colors)\n",
    "print('Is \"Red\" Present?', is_red_present)\n",
    "print('Is \"Brown\" Present?', is_brown_present)\n",
    "print('Number of Colors:', num_colors)\n",
    "print('Sorted Colors:', sorted_colors)\n",
    "print('Reversed Colors:', reversed_colors)\n",
    "print('Minimum Color:', min_color)\n",
    "print('Maximum Color:', max_color)"
   ]
  },
  {
   "cell_type": "markdown",
   "metadata": {},
   "source": [
    "- Example 1 demonstrates concatenating two tuples using the `+` operator.\n",
    "- Example 2 replicates the `colors` tuple by creating a slice of the entire tuple.\n",
    "- Example 3 checks for membership using the `in` keyword.\n",
    "- Example 4 finds the length of the `colors` tuple using the `len()` function.\n",
    "- Example 5 sorts the tuple using the `sorted()` function, and the result is converted back to a tuple.\n",
    "- Example 6 reverses the order of elements using the `reversed()` function, and the result is converted back to a tuple.\n",
    "- Example 7 finds the minimum and maximum elements in the tuple using the `min()` and `max()` functions."
   ]
  }
 ],
 "metadata": {
  "kernelspec": {
   "display_name": "Python 3",
   "language": "python",
   "name": "python3"
  },
  "language_info": {
   "codemirror_mode": {
    "name": "ipython",
    "version": 3
   },
   "file_extension": ".py",
   "mimetype": "text/x-python",
   "name": "python",
   "nbconvert_exporter": "python",
   "pygments_lexer": "ipython3",
   "version": "3.11.5"
  },
  "orig_nbformat": 4
 },
 "nbformat": 4,
 "nbformat_minor": 2
}
