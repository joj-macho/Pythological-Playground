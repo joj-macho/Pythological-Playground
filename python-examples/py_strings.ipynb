{
 "cells": [
  {
   "attachments": {},
   "cell_type": "markdown",
   "metadata": {},
   "source": [
    "# Python String Data Types Examples\n",
    "\n",
    "<p>Strings are sequences of characters that allow you to represent and work with textual data. Just like assembling letters to form words and sentences, strings provide a structured way to store and manipulate text.</p>"
   ]
  },
  {
   "cell_type": "markdown",
   "metadata": {},
   "source": [
    "## Introduction to Strings"
   ]
  },
  {
   "cell_type": "code",
   "execution_count": 1,
   "metadata": {},
   "outputs": [
    {
     "name": "stdout",
     "output_type": "stream",
     "text": [
      "Accessing the first character Output: A\n",
      "Accessing the last character Output: e\n",
      "Concatenated String Output: Hello, Alice!\n"
     ]
    }
   ],
   "source": [
    "# Example 1: Creating and Accessing Strings\n",
    "name = \"Alice\"\n",
    "print(\"Accessing the first character Output:\", name[0]) # Accessing the first character\n",
    "print(\"Accessing the last character Output:\", name[-1]) # Accessing the last character\n",
    "\n",
    "# Example 2: Concatenating Strings\n",
    "greeting = \"Hello\"\n",
    "name = \"Alice\"\n",
    "message = greeting + \", \" + name + \"!\"\n",
    "print(\"Concatenated String Output:\", message) # Concatenated String Output: Hello, Alice!"
   ]
  },
  {
   "cell_type": "markdown",
   "metadata": {},
   "source": [
    "- Example 1 demonstrates the creation of a string named <code>name</code> with the value \"Alice\". The code then accesses the first character of the string using indexing with <code>[0]</code> and the last character using negative indexing with <code>[-1]</code>.\n",
    "\n",
    "- In Example 2, two strings named <code>greeting</code> and <code>name</code> are created with the values \"Hello\" and \"Alice\" respectively. The code then concatenates these strings using the <code>+</code> operator and stores the result in the <code>message</code> variable. The concatenated string is printed as the output."
   ]
  },
  {
   "cell_type": "markdown",
   "metadata": {},
   "source": [
    "## Indexing and Slicing Strings"
   ]
  },
  {
   "cell_type": "code",
   "execution_count": 2,
   "metadata": {},
   "outputs": [
    {
     "name": "stdout",
     "output_type": "stream",
     "text": [
      "Sliced Substring Output: is\n",
      "Even Numbers Output: 02468\n",
      "Odd Numbers Output: 13579\n",
      "Reversed String Output: nohtyP\n"
     ]
    }
   ],
   "source": [
    "# Example 1: Accessing Substrings using Slicing\n",
    "sentence = \"Python is a great language\"\n",
    "substring = sentence[7:9]\n",
    "print(\"Sliced Substring Output:\", substring) # Sliced Substring Output: is\n",
    "\n",
    "# Example 2: SLicing with Step Value\n",
    "numbers = \"0123456789\"\n",
    "even_numbers = numbers[::2]\n",
    "odd_numbers = numbers[1::2]\n",
    "print(\"Even Numbers Output:\", even_numbers) # Even Numbers Output: 02468\n",
    "print(\"Odd Numbers Output:\", odd_numbers) # Odd Numbers Output: 13579\n",
    "\n",
    "# Reversing a String\n",
    "word = \"Python\"\n",
    "reversed_word = word[::-1]\n",
    "print(\"Reversed String Output:\", reversed_word) # Reversed String Output: nohtyP"
   ]
  },
  {
   "cell_type": "markdown",
   "metadata": {},
   "source": [
    "- In Example 1, a string named <code>sentence</code> with the value \"Python is a great language\" is created. The code uses slicing to extract a substring from index 7 to 9 (excluding the character at index 9). The extracted substring is printed as the output.\n",
    "\n",
    "- The code in Example 2 uses slicing with a step value to extract even and odd numbers from a string named <code>numbers</code>. The step value of 2 is used to skip alternate characters in the string. The even numbers and odd numbers are printed as separate outputs.\n",
    "\n",
    "- In Example 3, a string named <code>word</code> with the value \"Python\" is created. The code uses slicing with a negative step value (<code>[::-1]</code>) to reverse the characters in the string. The reversed string is printed as the output."
   ]
  },
  {
   "cell_type": "markdown",
   "metadata": {},
   "source": [
    "## String Operations and Methods"
   ]
  },
  {
   "cell_type": "code",
   "execution_count": 3,
   "metadata": {},
   "outputs": [
    {
     "name": "stdout",
     "output_type": "stream",
     "text": [
      "Example 1: Length of String Output: 18\n",
      "Example 1: Count of 'o' Output: 2\n",
      "Example 2: Lowercase Output: hello, world!\n",
      "Example 2: Uppercase Output: HELLO, WORLD!\n",
      "Example 3: Substring Check Output: False\n",
      "Example 3: Replaced String Output: I like dogs\n",
      "Example 4: Split String Output: ['Alice', 'Bob', 'Charlie']\n",
      "Example 4: Joined String Output: Alice, Bob, Charlie\n",
      "Example 5: Formatted String Output: My name is Alice and I am 25 years old.\n"
     ]
    }
   ],
   "source": [
    "# Example 1: String Length and Counting Characters\n",
    "\n",
    "sentence = \"I love programming\"\n",
    "length = len(sentence)\n",
    "count_of_o = sentence.count(\"o\")\n",
    "print(\"Example 1: Length of String Output:\", length) # Length of String Output: 19\n",
    "print(\"Example 1: Count of 'o' Output:\", count_of_o) # Count of 'o' Output: 2\n",
    "\n",
    "# Example 2: Changing Case\n",
    "text = \"Hello, World!\"\n",
    "lowercase = text.lower()\n",
    "uppercase = text.upper()\n",
    "print(\"Example 2: Lowercase Output:\", lowercase) # Lowercase Output: hello, world!\n",
    "print(\"Example 2: Uppercase Output:\", uppercase) # Uppercase Output: HELLO, WORLD!\n",
    "\n",
    "# Example 3: Checking Substrings and Replacing\n",
    "message = \"I like cats\"\n",
    "contains_dog = \"dog\" in message\n",
    "replaced_message = message.replace(\"cats\", \"dogs\")\n",
    "print(\"Example 3: Substring Check Output:\", contains_dog) # Substring Check Output: False\n",
    "print(\"Example 3: Replaced String Output:\", replaced_message) # Replaced String Output: I like dogs\n",
    "\n",
    "# Example 4: Splitting and Joining Strings\n",
    "names = \"Alice, Bob, Charlie\"\n",
    "name_list = names.split(\", \")\n",
    "joined_names = \", \".join(name_list)\n",
    "print(\"Example 4: Split String Output:\", name_list) # Split String Output: ['Alice', 'Bob', 'Charlie']\n",
    "print(\"Example 4: Joined String Output:\", joined_names) # Joined String Output: Alice, Bob, Charlie\n",
    "\n",
    "# Example 5: Formatting Strings\n",
    "name = \"Alice\"\n",
    "age = 25\n",
    "formatted_message = \"My name is {} and I am {} years old.\".format(name, age)\n",
    "print(\"Example 5: Formatted String Output:\", formatted_message) # Formatted String Output: My name is Alice and I am 25 years old."
   ]
  },
  {
   "cell_type": "markdown",
   "metadata": {},
   "source": [
    "- Example 1 demonstrates the use of the <code>len()</code> function to find the length of a string named <code>sentence</code>. The code also uses the <code>count()</code> method to count the occurrences of the character \"o\" in the <code>sentence</code> string. The length and count are printed as outputs.\n",
    "\n",
    "- In Example 2, a string named <code>text</code> with the value \"Hello, World!\" is created. The code then uses the <code>lower()</code> and <code>upper()</code> methods to convert the <code>text</code> string to lowercase and uppercase respectively. The converted strings are printed as outputs.\n",
    "\n",
    "- The code in Example 3 checks if the substring \"dog\" is present in a string named <code>message</code> using the <code>in</code> operator. It also uses the <code>replace()</code> method to replace the word \"cats\" with \"dogs\" in the <code>message</code> string. The results of the substring check and the replaced string are printed as outputs.\n",
    "\n",
    "- In Example 4, a string named <code>names</code> with comma-separated names is created. The code uses the <code>split()</code> method to split the <code>names</code> string into a list of names using the delimiter \", \". It then uses the <code>join()</code> method to join the list elements back into a string with the delimiter \", \". The split list and the joined string are printed as outputs.\n",
    "\n",
    "- Example 5 showcases string formatting using curly braces <code>{}</code> as placeholders. The code creates a string template with placeholders for <code>name</code> and <code>age</code>. It uses the <code>format()</code> method to substitute the placeholders with the values of <code>name</code> and <code>age</code> variables. The formatted string is printed as the output."
   ]
  },
  {
   "cell_type": "code",
   "execution_count": null,
   "metadata": {},
   "outputs": [],
   "source": []
  }
 ],
 "metadata": {
  "kernelspec": {
   "display_name": "Python 3",
   "language": "python",
   "name": "python3"
  },
  "language_info": {
   "codemirror_mode": {
    "name": "ipython",
    "version": 3
   },
   "file_extension": ".py",
   "mimetype": "text/x-python",
   "name": "python",
   "nbconvert_exporter": "python",
   "pygments_lexer": "ipython3",
   "version": "3.10.11"
  },
  "orig_nbformat": 4
 },
 "nbformat": 4,
 "nbformat_minor": 2
}
