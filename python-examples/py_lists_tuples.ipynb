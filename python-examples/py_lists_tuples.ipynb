{
 "cells": [
  {
   "cell_type": "markdown",
   "metadata": {},
   "source": [
    "# Python Lists & Tuples Data Types Examples\n",
    "\n",
    "<p>Lists are versatile data structures in Python that allow you to store and organize collections of items. You can add, remove, and modify elements in a list, as well as perform various operations on the list.</p>\n",
    "\n",
    "<p>Tuples are similar to lists, but they are immutable, meaning their elements cannot be changed once defined. Tuples are useful for representing collections of related data that should not be modified.</p>\n",
    "\n",
    "<p>Below are some examples of using Lists and Tuples</p>"
   ]
  },
  {
   "cell_type": "markdown",
   "metadata": {},
   "source": [
    "## Lists Examples"
   ]
  },
  {
   "cell_type": "code",
   "execution_count": 1,
   "metadata": {},
   "outputs": [
    {
     "name": "stdout",
     "output_type": "stream",
     "text": [
      "Accessing the first element Output: apple\n",
      "Accessing the last element Output: durian\n",
      "Updated List Output: ['apple', 'grape', 'kiwi', 'durian']\n",
      "Removed Element Output: orange\n",
      "Length of List Output: 4\n",
      "Sorted List Output: ['apple', 'durian', 'grape', 'kiwi']\n",
      "Accessing an element in a nested list Output: 2\n",
      "Updated Matrix Output: [[1, 2, 3], [4, 5, 10], [7, 8, 9, 11]]\n",
      "Extracted Sublist Output: [3, 4, 5, 6, 7]\n",
      "Updated Numbers List Output: [10, 9, 8, 7, 6, 5, 4, 3, 2, 1, 11, 12, 13]\n",
      "Count of 5 Output: 1\n"
     ]
    }
   ],
   "source": [
    "# Example 1: Creating and Accessing a List\n",
    "fruits = [\"apple\", \"banana\", \"cherry\", \"durian\"]\n",
    "print(\"Accessing the first element Output:\", fruits[0])  # Accessing the first element\n",
    "print(\"Accessing the last element Output:\", fruits[-1])  # Accessing the last element\n",
    "\n",
    "# Example 2: Modifying a List\n",
    "fruits[1] = \"grape\"  # Modifying an element\n",
    "fruits.append(\"orange\")  # Adding an element to the end\n",
    "fruits.insert(2, \"kiwi\")  # Inserting an element at a specific position\n",
    "\n",
    "# Example 3: Removing Elements from a List\n",
    "fruits.remove(\"cherry\")  # Removing a specific element\n",
    "popped_fruit = fruits.pop()  # Removing the last element and returning it\n",
    "\n",
    "# Example 4: List Operations\n",
    "length = len(fruits)  # Getting the length of the list\n",
    "sorted_fruits = sorted(fruits)  # Sorting the list\n",
    "\n",
    "print(\"Updated List Output:\", fruits)  # ['apple', 'kiwi', 'grape']\n",
    "print(\"Removed Element Output:\", popped_fruit)  # 'orange'\n",
    "print(\"Length of List Output:\", length)  # 3\n",
    "print(\"Sorted List Output:\", sorted_fruits)  # ['apple', 'grape', 'kiwi']\n",
    "\n",
    "\n",
    "# Example 5: Nesting Lists\n",
    "matrix = [[1, 2, 3], [4, 5, 6], [7, 8, 9]]\n",
    "print(\"Accessing an element in a nested list Output:\", matrix[0][1])  # Accessing an element in a nested list\n",
    "\n",
    "# Example 6: Modifying Elements in Nested Lists\n",
    "matrix[1][2] = 10  # Modifying an element in a nested list\n",
    "matrix[2].append(11)  # Adding an element to a nested list\n",
    "\n",
    "# Example 7: Extracting Sublists using Slicing\n",
    "numbers = [1, 2, 3, 4, 5, 6, 7, 8, 9, 10]\n",
    "sublist = numbers[2:7]  # Extracting a sublist using slicing\n",
    "\n",
    "# Example 8: More List Operations\n",
    "numbers.reverse()  # Reversing the order of the list\n",
    "count_of_5 = numbers.count(5)  # Counting the occurrences of a value\n",
    "numbers.extend([11, 12, 13])  # Extending the list by adding elements\n",
    "\n",
    "print(\"Updated Matrix Output:\", matrix)  # [[1, 2, 3], [4, 5, 10], [7, 8, 9, 11]]\n",
    "print(\"Extracted Sublist Output:\", sublist)  # [3, 4, 5, 6, 7]\n",
    "print(\"Updated Numbers List Output:\", numbers)  # [10, 9, 8, 7, 6, 5, 4, 3, 2, 1, 11, 12, 13]\n",
    "print(\"Count of 5 Output:\", count_of_5)  # 1\n"
   ]
  },
  {
   "cell_type": "markdown",
   "metadata": {},
   "source": [
    "- Example 1 demonstrates creating a list of fruits and accessing elements by index. Lists in Python are 0-indexed, so the first element is accessed using index 0, and the last element is accessed using index -1.\n",
    "\n",
    "- Example 2 showcases modifying a list by changing an element, adding an element to the end using the <code>append()</code> method, and inserting an element at a specific position using the <code>insert()</code> method.\n",
    "\n",
    "- Example 3 illustrates removing elements from a list using the <code>remove()</code> method to delete a specific element and the <code>pop()</code> method to remove the last element and return it.\n",
    "\n",
    "- Example 4 highlights some common list operations such as getting the length of the list using the <code>len()</code> function and sorting the list using the <code>sorted()</code> function.\n",
    "\n",
    "- Example 5 demonstrates creating and accessing nested lists, where each sublist represents a row in the matrix. The element at index 0 of the first sublist can be accessed using <code>matrix[0][1]</code>.\n",
    "\n",
    "- Example 6 showcases modifying elements in nested lists using the <code>append()</code> method to add the element 11 to the third sublist.\n",
    "\n",
    "- Example 7 illustrates list slicing, where a sublist named <code>sublist</code> is extracted from the <code>numbers</code> list using slicing. The sublist includes elements from index 2 to index 6 (exclusive).\n",
    "\n",
    "- Example 8 highlists more list operations. The <code>reverse()</code> method is used to reverse the order of elements in the <code>numbers</code> list. The <code>count()</code> method is used to count the number of occurrences of the value 5 in the list. The <code>extend()</code> method is used to add multiple elements (11, 12, 13) to the end of the list."
   ]
  },
  {
   "cell_type": "markdown",
   "metadata": {},
   "source": [
    "## Tuples Examples"
   ]
  },
  {
   "cell_type": "code",
   "execution_count": 2,
   "metadata": {},
   "outputs": [
    {
     "name": "stdout",
     "output_type": "stream",
     "text": [
      "Accessing the first element Output: apple\n",
      "Accessing the last element Output: durian\n",
      "Converted Tuple Output: (1, 2, 3, 4, 5)\n",
      "Converted List Output: ['apple', 'banana', 'cherry', 'durian']\n",
      "Extracted Subtuple Output: ('banana', 'cherry')\n",
      "Count of 'apple' Output: 1\n",
      "Index of 'durian' Output: 3\n"
     ]
    }
   ],
   "source": [
    "# Example 1: Creating and Accessing a Tuple\n",
    "fruits = (\"apple\", \"banana\", \"cherry\", \"durian\")\n",
    "print(\"Accessing the first element Output:\", fruits[0])  # Accessing the first element\n",
    "print(\"Accessing the last element Output:\", fruits[-1])  # Accessing the last element\n",
    "\n",
    "# Example 2: Converting Lists to Tuples and Vice Versa\n",
    "numbers = [1, 2, 3, 4, 5]\n",
    "tuple_numbers = tuple(numbers)  # Converting a list to a tuple\n",
    "list_fruits = list(fruits)  # Converting a tuple to a list\n",
    "\n",
    "print(\"Converted Tuple Output:\", tuple_numbers)\n",
    "print(\"Converted List Output:\", list_fruits)\n",
    "\n",
    "# Example 3: Immutable Nature of Tuples\n",
    "# Trying to modify a tuple will result in a TypeError\n",
    "# fruits[1] = \"grape\"  # Uncommenting this line will raise a TypeError\n",
    "\n",
    "# Example 4: Extracting Subtuples using Slicing\n",
    "subtuple = fruits[1:3]  # Extracting a subtuple using slicing\n",
    "\n",
    "print(\"Extracted Subtuple Output:\", subtuple)\n",
    "\n",
    "# Example 5: Common Tuple Operations\n",
    "count_of_apple = fruits.count(\"apple\")  # Counting the occurrences of a value\n",
    "index_of_durian = fruits.index(\"durian\")  # Finding the index of a value\n",
    "\n",
    "print(\"Count of 'apple' Output:\", count_of_apple)\n",
    "print(\"Index of 'durian' Output:\", index_of_durian)\n"
   ]
  },
  {
   "cell_type": "markdown",
   "metadata": {},
   "source": [
    "- Example 1: Creating and Accessing a Tuple. A tuple named <code>fruits</code> is created with four elements: \"apple\", \"banana\", \"cherry\", and \"durian\". The first element of the tuple is accessed using index 0, and the last element is accessed using the negative index -1.\n",
    "\n",
    "- Example 2: Converting Lists to Tuples and Vice Versa. A list named <code>numbers</code> is created with five elements. The <code>tuple()</code> function is used to convert the list <code>numbers</code> into a tuple called <code>tuple_numbers</code>. Similarly, the <code>list()</code> function is used to convert the tuple <code>fruits</code> into a list called <code>list_fruits</code>. This demonstrates how to convert between lists and tuples using the respective conversion functions.\n",
    "\n",
    "- Example 3: Immutable Nature of Tuples. Tuples are immutable, meaning their elements cannot be modified after creation. In this example, trying to modify an element of the <code>fruits</code> tuple by assigning a new value to it will raise a <code>TypeError</code>. The line <code>fruits[1] = \"grape\"</code> is commented out to prevent the error.\n",
    "\n",
    "- Example 4: Extracting Subtuples using Slicing. A subtuple is extracted from the <code>fruits</code> tuple using slicing. The subtuple contains elements from index 1 (inclusive) to index 3 (exclusive). The resulting subtuple is assigned to the variable <code>subtuple</code>.\n",
    "\n",
    "- Example 5: Common Tuple Operations. The <code>count()</code> method is used to count the number of occurrences of the value \"apple\" in the <code>fruits</code> tuple, and the result is assigned to the variable <code>count_of_apple</code>. The <code>index()</code> method is used to find the index of the value \"durian\" in the <code>fruits</code> tuple, and the result is assigned to the variable <code>index_of_durian</code>. These examples demonstrate common operations on tuples."
   ]
  },
  {
   "cell_type": "code",
   "execution_count": null,
   "metadata": {},
   "outputs": [],
   "source": []
  }
 ],
 "metadata": {
  "kernelspec": {
   "display_name": "Python 3",
   "language": "python",
   "name": "python3"
  },
  "language_info": {
   "codemirror_mode": {
    "name": "ipython",
    "version": 3
   },
   "file_extension": ".py",
   "mimetype": "text/x-python",
   "name": "python",
   "nbconvert_exporter": "python",
   "pygments_lexer": "ipython3",
   "version": "3.10.11"
  },
  "orig_nbformat": 4
 },
 "nbformat": 4,
 "nbformat_minor": 2
}
