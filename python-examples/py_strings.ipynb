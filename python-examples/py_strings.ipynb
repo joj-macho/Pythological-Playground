{
 "cells": [
  {
   "attachments": {},
   "cell_type": "markdown",
   "metadata": {},
   "source": [
    "# Python String Data Types Examples\n",
    "\n",
    "<p>Strings in Python are sequences of characters, and they are widely used for representing textual data. Below are examples demonstrating different aspects of working with strings.</p>"
   ]
  },
  {
   "cell_type": "markdown",
   "metadata": {},
   "source": [
    "## Basic String Operations"
   ]
  },
  {
   "cell_type": "code",
   "execution_count": 1,
   "metadata": {},
   "outputs": [
    {
     "name": "stdout",
     "output_type": "stream",
     "text": [
      "Original Greeting: Hello, World!\n",
      "First Character: H\n",
      "Last Character: !\n",
      "Substring: World\n",
      "Modified Greeting: Hello, Python!\n"
     ]
    }
   ],
   "source": [
    "# Example: Creating a basic string\n",
    "greeting = 'Hello, World!'\n",
    "\n",
    "# Example: Accessing individual characters\n",
    "first_char = greeting[0]\n",
    "last_char = greeting[-1]\n",
    "\n",
    "# Example: Slicing strings\n",
    "substring = greeting[7:12]\n",
    "\n",
    "# Example: Modifying strings\n",
    "modified_greeting = greeting.replace('World', 'Python')\n",
    "\n",
    "print('Original Greeting:', greeting)\n",
    "print('First Character:', first_char)\n",
    "print('Last Character:', last_char)\n",
    "print('Substring:', substring)\n",
    "print('Modified Greeting:', modified_greeting)"
   ]
  },
  {
   "cell_type": "markdown",
   "metadata": {},
   "source": [
    "- Example 1 initializes a basic string containing the greeting 'Hello, World!'\n",
    "\n",
    "- Example 2 demonstrates accessing individual characters in a string. The first and last characters are accessed using indexing.\n",
    "\n",
    "- Example 3 showcases slicing strings to extract a substring from the original greeting.\n",
    "\n",
    "- Example 4 modifies the original greeting by replacing 'World' with 'Python' using the `replace()` method."
   ]
  },
  {
   "cell_type": "markdown",
   "metadata": {},
   "source": [
    "## String Operations and Methods"
   ]
  },
  {
   "cell_type": "code",
   "execution_count": 2,
   "metadata": {},
   "outputs": [
    {
     "name": "stdout",
     "output_type": "stream",
     "text": [
      "Contains \"Hello\": True\n",
      "Does not contain \"Java\": True\n",
      "Concatenated Greeting: Hello, World! John\n",
      "Repeated Greeting: Hello, World!Hello, World!Hello, World!\n",
      "Uppercase Greeting: HELLO, WORLD!\n",
      "Lowercase Greeting: hello, world!\n",
      "Formatted Greeting: Formatted: Hello, World!\n"
     ]
    }
   ],
   "source": [
    "# Example 5: Membership in strings\n",
    "contains_hello = 'Hello' in greeting\n",
    "not_contains_java = 'Java' not in greeting\n",
    "\n",
    "# Example 6: Concatenation\n",
    "greeting_and_name = greeting + ' John'\n",
    "\n",
    "# Example 7: Repetition\n",
    "repeated_greeting = greeting * 3\n",
    "\n",
    "# Example 8: Converting cases\n",
    "uppercase_greeting = greeting.upper()\n",
    "lowercase_greeting = greeting.lower()\n",
    "\n",
    "# Example 9: String formatting\n",
    "formatted_greeting = f'Formatted: {greeting}'\n",
    "\n",
    "print('Contains \"Hello\":', contains_hello)\n",
    "print('Does not contain \"Java\":', not_contains_java)\n",
    "print('Concatenated Greeting:', greeting_and_name)\n",
    "print('Repeated Greeting:', repeated_greeting)\n",
    "print('Uppercase Greeting:', uppercase_greeting)\n",
    "print('Lowercase Greeting:', lowercase_greeting)\n",
    "print('Formatted Greeting:', formatted_greeting)"
   ]
  },
  {
   "cell_type": "markdown",
   "metadata": {},
   "source": [
    "- Example 1 checks for membership in strings using the `in` and `not in` operators.\n",
    "\n",
    "- Example 2 demonstrates concatenation by combining the original greeting with the string \" John.\"\n",
    "\n",
    "- Example 3 repeats the original greeting three times using the repetition operator `*`.\n",
    "\n",
    "- Example 4 converts the case of the greeting to uppercase and lowercase using the `upper()` and `lower()` methods.\n",
    "\n",
    "- Example 5 showcases string formatting using an f-string to embed the greeting in a formatted string."
   ]
  },
  {
   "cell_type": "markdown",
   "metadata": {},
   "source": [
    "## Additional String Methods"
   ]
  },
  {
   "cell_type": "code",
   "execution_count": 5,
   "metadata": {},
   "outputs": [
    {
     "name": "stdout",
     "output_type": "stream",
     "text": [
      "Is Alphanumeric: False\n",
      "Is Title Case: True\n",
      "Joined String: Hello Python World\n",
      "Split Words: ['Python', 'is', 'an', 'amazing', 'programming', 'language']\n",
      "Replaced String: JavaScript is an amazing programming language\n",
      "Starts with \"Python\": True\n",
      "Ends with \"language\": True\n",
      "Right-justified Text:          Python is an amazing programming language\n"
     ]
    }
   ],
   "source": [
    "# Example: Checking specific characteristics\n",
    "is_alpha_numeric = greeting.isalnum()\n",
    "is_title_case = greeting.istitle()\n",
    "\n",
    "# Example: Joining strings\n",
    "words = ['Hello', 'Python', 'World']\n",
    "joined_string = ' '.join(words)\n",
    "\n",
    "# Example: Splitting strings\n",
    "sentence = \"Python is an amazing programming language\"\n",
    "split_words = sentence.split()\n",
    "\n",
    "# Example: Replacing substrings\n",
    "replaced_string = sentence.replace(\"Python\", \"JavaScript\")\n",
    "\n",
    "# Example: Checking prefixes and suffixes\n",
    "starts_with_python = sentence.startswith(\"Python\")\n",
    "ends_with_language = sentence.endswith(\"language\")\n",
    "\n",
    "# Example: Justifying text\n",
    "justified_text = sentence.rjust(50)\n",
    "\n",
    "print('Is Alphanumeric:', is_alpha_numeric)\n",
    "print('Is Title Case:', is_title_case)\n",
    "print('Joined String:', joined_string)\n",
    "print('Split Words:', split_words)\n",
    "print('Replaced String:', replaced_string)\n",
    "print('Starts with \"Python\":', starts_with_python)\n",
    "print('Ends with \"language\":', ends_with_language)\n",
    "print('Right-justified Text:', justified_text)"
   ]
  },
  {
   "cell_type": "markdown",
   "metadata": {},
   "source": [
    "- Example 1 uses `isalnum()` and `istitle()` methods to check if the string is alphanumeric and in title case, respectively.\n",
    "\n",
    "- Example 2 joins a list of words into a single string using the `join()` method.\n",
    "\n",
    "- Example 3 splits a sentence into a list of words using the `split()` method.\n",
    "\n",
    "- Example 4 replaces a substring in the original sentence with another string using the `replace()` method.\n",
    "\n",
    "- Example 5 checks if the sentence starts with \"Python\" and ends with \"language\" using the `startswith()` and `endswith()` methods.\n",
    "\n",
    "- Example 6 left-justifies the text to a width of 50 characters using the `ljust()` method."
   ]
  }
 ],
 "metadata": {
  "kernelspec": {
   "display_name": "Python 3",
   "language": "python",
   "name": "python3"
  },
  "language_info": {
   "codemirror_mode": {
    "name": "ipython",
    "version": 3
   },
   "file_extension": ".py",
   "mimetype": "text/x-python",
   "name": "python",
   "nbconvert_exporter": "python",
   "pygments_lexer": "ipython3",
   "version": "3.11.5"
  },
  "orig_nbformat": 4
 },
 "nbformat": 4,
 "nbformat_minor": 2
}
