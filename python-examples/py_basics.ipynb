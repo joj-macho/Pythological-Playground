{
 "cells": [
  {
   "cell_type": "markdown",
   "metadata": {},
   "source": [
    "# Python Basic Concepts and Definitions Examples"
   ]
  },
  {
   "attachments": {},
   "cell_type": "markdown",
   "metadata": {},
   "source": [
    "## Variables and Identifiers in Python\n",
    "\n",
    "In programming, variables are used to store data in a computer's memory. In Python, you can assign a value to a variable by choosing a name for it and using the equals sign. Variables can store different data types and it's important to choose descriptive variable names. Here are some examples of how to set variables in Python."
   ]
  },
  {
   "cell_type": "code",
   "execution_count": 2,
   "metadata": {},
   "outputs": [
    {
     "name": "stdout",
     "output_type": "stream",
     "text": [
      "Assigning a value to a variable example:\n",
      "name = Joj\n",
      "age = 25\n",
      "\n",
      "Performing calculations with variables example:\n",
      "x = 10\n",
      "y = 5\n",
      "x + y = 15\n",
      "\n",
      "Reassigning the value of a variable example:\n",
      "Reasigned value x = 15\n"
     ]
    }
   ],
   "source": [
    "# Assigning a value to a variable\n",
    "name = 'Joj'\n",
    "age = 25\n",
    "print('Assigning a value to a variable example:')\n",
    "print('name =', name)\n",
    "print('age =', age)\n",
    "print()\n",
    "\n",
    "# Performing calculations with variables\n",
    "x = 10\n",
    "y = 5\n",
    "sum_x_y = x + y\n",
    "print('Performing calculations with variables example:')\n",
    "print('x =', x)\n",
    "print('y =', y)\n",
    "print('x + y =', x + y)\n",
    "print()\n",
    "\n",
    "# Reassigning the value of a variable\n",
    "x = 15\n",
    "print('Reassigning the value of a variable example:')\n",
    "print('Reasigned value x =', x)"
   ]
  },
  {
   "attachments": {},
   "cell_type": "markdown",
   "metadata": {},
   "source": [
    "These examples showcase the use of variables to store values and how identifiers (variable names) can be used to refer to those values in Python. That is,\n",
    "- In the first example, the variables <code>name</code> and <code>age</code> are assigned the values 'Joj' and 25, respectively. By using the variable names in the print statements, the output displays the values stored in those variables.\n",
    "- In the second example, the variables <code>x</code> and <code>y</code> are assigned the values 10 and 5, respectively. The <code>sum_x_y</code> variable is assigned the result of adding <code>x</code> and <code>y</code>. The print statements demonstrate the values of <code>x</code>, <code>y</code>, and the sum of <code>x</code> and <code>y</code>.\n",
    "- In the third example, the value of the variable <code>x</code> is reassigned to 15. The print statement displays the new value of <code>x</code>, which is 15."
   ]
  },
  {
   "cell_type": "markdown",
   "metadata": {},
   "source": [
    "### Naming Variables and Identifiers\n",
    "<p>When it comes to naming your variables and identifiers in Python, there are some rules you need to follow to avoid errors and confusion. Here are some of the most important rules:</p>\n",
    "<ul>\n",
    "<li>Variable names should only contain letters, numbers, and underscores.</li>\n",
    "<li>They should start with a letter or an underscore, but never with a number.</li>\n",
    "<li>Spaces are not allowed in variable names, but you can use underscores to separate words in variable names.</li>\n",
    "<li>Variable names should not include special characters such as !, @, #, $, %, etc.</li>\n",
    "<li>Avoid using Python keywords and function names as variable names. For example, don't use the word \"print\" as a variable name.</li>\n",
    "</ul>\n",
    "\n",
    "<p>Following these rules will help you avoid errors and make your code easier to read. But there are also some standard naming conventions that are widely used in the Python community:</p>\n",
    "<ul>\n",
    "<li>Use lowercase letters for variable names.</li>\n",
    "<li>Use underscores to separate words in variable names, rather than spaces.</li>\n",
    "<li>Use all caps for constant values, such as PI or MAX_VALUE.</li>\n",
    "<li>Use CamelCase for class names.</li>\n",
    "</ul>\n",
    "\n",
    "Here are some examples:"
   ]
  },
  {
   "cell_type": "code",
   "execution_count": 3,
   "metadata": {},
   "outputs": [
    {
     "name": "stdout",
     "output_type": "stream",
     "text": [
      "Variable names with letters, numbers, and underscores:\n",
      "Number of students: 30\n",
      "Student name: Alice\n",
      "\n",
      "Variable names starting with a letter or underscore:\n",
      "Name: John\n",
      "Age: 25\n",
      "\n",
      "Variable names with underscores to separate words:\n",
      "First name: Emily\n",
      "Last name: Smith\n",
      "\n",
      "Avoiding special characters in variable names example:\n",
      "Avoid using Python keywords and function names as variable names example:\n"
     ]
    }
   ],
   "source": [
    "# Variable names containing letters, numbers, and underscores\n",
    "num_students = 30\n",
    "student_name = 'Alice'\n",
    "print('Variable names with letters, numbers, and underscores:')\n",
    "print('Number of students:', num_students)\n",
    "print('Student name:', student_name)\n",
    "print()\n",
    "\n",
    "# Variable names starting with a letter or underscore\n",
    "_name = 'John'\n",
    "age = 25\n",
    "print('Variable names starting with a letter or underscore:')\n",
    "print('Name:', _name)\n",
    "print('Age:', age)\n",
    "print()\n",
    "\n",
    "# Variable names with underscores to separate words\n",
    "first_name = 'Emily'\n",
    "last_name = 'Smith'\n",
    "print('Variable names with underscores to separate words:')\n",
    "print('First name:', first_name)\n",
    "print('Last name:', last_name)\n",
    "print()\n",
    "\n",
    "# Avoiding special characters in variable names\n",
    "# quantity! = 10  # Invalid variable name with special character\n",
    "print('Avoiding special characters in variable names example:')\n",
    "# Output\n",
    "# SyntaxError: invalid syntax\n",
    "\n",
    "# Avoiding using Python keywords and function names as variable names\n",
    "# print = 'Hello'  # Avoid using \"print\" as a variable name\n",
    "print('Avoid using Python keywords and function names as variable names example:')\n",
    "# Output:\n",
    "# TypeError: 'str' object is not callable\n"
   ]
  },
  {
   "cell_type": "markdown",
   "metadata": {},
   "source": [
    "- <p>In the first example, the variable names <code>num_students</code> and <code>student_name</code> adhere to the naming rules by containing letters, numbers, and underscores. The print statements demonstrate the values stored in these variables.</p>\n",
    "- <p>The second example shows variable names <code>_name</code> and <code>age</code> that start with an underscore and a letter, respectively. The output displays the values assigned to these variables.</p>\n",
    "- <p>The third example uses underscores to separate words in the variable names <code>first_name</code> and <code>last_name</code>. The print statements showcase the values stored in these variables.</p>\n",
    "- <p>The fourth example demonstrates an invalid variable name <code>quantity!</code>, which includes a special character. This results in a syntax error when trying to assign a value to the variable.</p>\n",
    "- <p>The fifth example highlights the importance of avoiding the use of Python keywords and function names as variable names. The attempt to assign a value to the <code>print</code> variable and subsequently use it as a function causes a type error.</p>"
   ]
  },
  {
   "cell_type": "markdown",
   "metadata": {},
   "source": [
    "## Python Constants\n",
    "<p>Constants are values that do not change, and in Python, they are defined in a module and written in uppercase letters. While Python does not have a true constant, variables assigned a value that never changes can have a constant feel.</p>\n",
    "<p>To create a constant in Python, you can name it in all capital letters. This naming convention is not a strict rule but is followed by most programmers to distinguish constants from regular variables. For example, Python's built-in constants include True, False, and None, which are used for Boolean operations.</p>\n",
    "\n",
    "<p>Here are some examples that highlight the use of built-in and user-defined constants in Python and how they can be utilized in various contexts, such as calculations and Boolean operations.</p>"
   ]
  },
  {
   "cell_type": "code",
   "execution_count": 5,
   "metadata": {},
   "outputs": [
    {
     "name": "stdout",
     "output_type": "stream",
     "text": [
      "Built-in Constants:\n",
      "True: True\n",
      "False: False\n",
      "None: None\n",
      "\n",
      "User-Defined Constants:\n",
      "Speed of Light: 299792458\n",
      "Gravitational Constant: 6.6743e-11\n",
      "Pi: 3.14159\n",
      "\n",
      "Calculating with Constants:\n",
      "Radius: 5\n",
      "Area of Circle: 78.53975\n"
     ]
    }
   ],
   "source": [
    "# Built-in Constants\n",
    "print('Built-in Constants:')\n",
    "print('True:', True)\n",
    "print('False:', False)\n",
    "print('None:', None)\n",
    "print()\n",
    "\n",
    "# User-Defined Constants\n",
    "SPEED_OF_LIGHT = 299792458  # meters per second\n",
    "GRAVITATIONAL_CONSTANT = 6.67430e-11  # m^3 kg^−1 s^−2\n",
    "PI = 3.14159\n",
    "print('User-Defined Constants:')\n",
    "print('Speed of Light:', SPEED_OF_LIGHT)\n",
    "print('Gravitational Constant:', GRAVITATIONAL_CONSTANT)\n",
    "print('Pi:', PI)\n",
    "print()\n",
    "\n",
    "# Constants in calculations\n",
    "radius = 5\n",
    "area_of_circle = PI * radius ** 2\n",
    "print('Calculating with Constants:')\n",
    "print('Radius:', radius)\n",
    "print('Area of Circle:', area_of_circle)\n"
   ]
  },
  {
   "cell_type": "markdown",
   "metadata": {},
   "source": [
    "- <p>In the first example, the built-in constants <code>True</code>, <code>False</code>, and <code>None</code> are showcased. These constants are commonly used in Boolean operations.</p>\n",
    "- <p>The second example demonstrates user-defined constants. The variables <code>SPEED_OF_LIGHT</code>, <code>GRAVITATIONAL_CONSTANT</code>, and <code>PI</code> are assigned values that are intended to remain constant throughout the program. By using uppercase letters, they are distinguished from regular variables.</p>\n",
    "- The third example illustrates how constants can be used in calculations. The <code>radius</code> variable is assigned a value of 5, and the <code>area_of_circle</code> is calculated using the formula $\\pi \\times r^2$, where $\\pi$ is the user-defined constant and <code>radius</code> is a variable. The output displays the radius and the calculated area of the circle."
   ]
  },
  {
   "cell_type": "markdown",
   "metadata": {},
   "source": [
    "## Comments in Python\n",
    "<p>Comments are notes that programmers add to their code to explain what the code is doing. These notes can be helpful when returning to a project after being away from it for a period of time or when working on a program that was initially created by someone else. In Python, comments begin with the # character and continue to the end of the line. The computer ignores all of the comments in the program. They are only included to benefit people.</p>\n",
    "\n",
    "<p>In addition to using \"#\" symbols to create single-line comments, you can also use triple quotes (''' or \"\"\") to create multi-line comments. These are useful for adding longer explanations or documentation to your code. For example:</p>\n",
    "\n",
    "<p>Here are some examples that illustrate the use of comments in Python, both single-line and multi-line, to enhance code readability, provide context, and assist in code maintenance and understanding.</p>"
   ]
  },
  {
   "cell_type": "code",
   "execution_count": 6,
   "metadata": {},
   "outputs": [
    {
     "name": "stdout",
     "output_type": "stream",
     "text": [
      "Hello, World!\n",
      "This is a comment demonstration.\n",
      "Result: 15\n"
     ]
    }
   ],
   "source": [
    "# Single-Line Comment\n",
    "print('Hello, World!')  # Prints a greeting message\n",
    "\n",
    "# Multi-Line Comment\n",
    "'''\n",
    "This is a multi-line comment.\n",
    "It provides detailed information about the code.\n",
    "'''\n",
    "print('This is a comment demonstration.')\n",
    "\n",
    "# Single-Line Comment within Code\n",
    "x = 10  # Assigning a value to variable x\n",
    "y = 5   # Assigning a value to variable y\n",
    "result = x + y  # Calculating the sum of x and y\n",
    "print('Result:', result) # Print the results of the sum of x and y"
   ]
  },
  {
   "cell_type": "markdown",
   "metadata": {},
   "source": [
    "- <p>In the first example, a single-line comment is used to provide a brief explanation or note about the code. It follows the <code>print('Hello, World!')</code> statement and indicates that it prints a greeting message.</p>\n",
    "- <p>The second example showcases a multi-line comment created using triple quotes (''' or \"\"\"). It spans multiple lines and can provide more extensive context or documentation. In this case, it serves as a comment demonstration.</p>\n",
    "- <p>The third example demonstrates the usage of single-line comments within the code itself. Each comment provides a brief explanation of the corresponding line of code, such as assigning values to variables or calculating the sum of variables.</p>"
   ]
  },
  {
   "cell_type": "markdown",
   "metadata": {},
   "source": [
    "## Python Statements and Expressions\n",
    "<p>Statements and expressions are important concepts in Python programming. A statement is a single line of code that performs a specific action, like assigning a value to a variable or printing a message to the screen. On the other hand, an expression is a combination of values, variables, and operators that produces a result.</p>\n",
    "\n",
    "<p>Here are some examples showing the concepts of statements and expressions in Python, emphasizing their role in controlling program flow and performing calculations based on values, variables, and operators.</p>"
   ]
  },
  {
   "cell_type": "code",
   "execution_count": 7,
   "metadata": {},
   "outputs": [
    {
     "name": "stdout",
     "output_type": "stream",
     "text": [
      "Python Statements:\n",
      "The value of x is: 5\n",
      "x is positive\n",
      "\n",
      "Python Expressions:\n",
      "The value of b is: 32\n",
      "Current value of i: 0\n",
      "Result of the expression: 0\n",
      "Current value of i: 1\n",
      "Result of the expression: 2\n",
      "Current value of i: 2\n",
      "Result of the expression: 4\n",
      "Current value of i: 3\n",
      "Result of the expression: 6\n",
      "Current value of i: 4\n",
      "Result of the expression: 8\n"
     ]
    }
   ],
   "source": [
    "# Statements\n",
    "print('Python Statements:')\n",
    "x = 5  # Assigning a value to a variable (statement)\n",
    "print('The value of x is:', x)  # Printing a message (statement)\n",
    "if x > 0:  # Conditional statement\n",
    "    print('x is positive')  # Executed if the condition is True (statement)\n",
    "else:\n",
    "    print('x is non-positive')  # Executed if the condition is False (statement)\n",
    "print()\n",
    "\n",
    "# Expressions\n",
    "print('Python Expressions:')\n",
    "a = 10  # Assignment statement (statement)\n",
    "b = 3 * a + 2  # Expression: calculation using operators and variables (expression)\n",
    "print('The value of b is:', b)  # Printing the result of an expression (statement)\n",
    "\n",
    "# Expression in Loop\n",
    "for i in range(5):  # Looping statement\n",
    "    print('Current value of i:', i)  # Printing the value of i in each iteration (statement)\n",
    "    result = i * 2  # Expression: calculation using variable i (expression)\n",
    "    print('Result of the expression:', result)  # Printing the result of the expression (statement)\n"
   ]
  },
  {
   "cell_type": "markdown",
   "metadata": {},
   "source": [
    "- <p>The first set of examples showcases statements. The first statement assigns a value to a variable <code>x</code>. The second statement prints a message that includes the value of <code>x</code>. The third statement is a conditional statement that checks whether <code>x</code> is greater than 0 and executes different actions based on the result.</p>\n",
    "- <p>The second set of examples highlights expressions. In the first example, an expression is used to calculate the value of <code>b</code> based on a mathematical formula involving the variable <code>a</code>. The result is then printed using a print statement. The second example demonstrates an expression used in a loop, where the expression calculates the result by multiplying the current value of <code>i</code> by 2 in each iteration.</p>"
   ]
  },
  {
   "cell_type": "markdown",
   "metadata": {},
   "source": [
    "## Operators in Python\n",
    "<p>Operators are symbols or special keywords in Python that perform various operations on values or variables. Python provides a wide range of operators, including:</p>\n",
    "\n",
    "<li>Arithmetic operators: Perform basic mathematical operations such as addition (+), subtraction (-), multiplication (*), division (/), and modulus (%).</li>\n",
    "<li>Comparison operators: Compare two values and return a Boolean result, such as equal to (==), not equal to (!=), greater than (>), less than (<), etc.</li>\n",
    "<li>Logical operators: Combine Boolean values and return a Boolean result, such as and, or, and not.</li>\n",
    "<li>Assignment operators: Assign values to variables, such as =, +=, -=, etc.</li>\n",
    "<li>Membership operators: Test if a value is a member of a sequence, such as in and not in.</li>\n",
    "<li>Identity operators: Compare the identity of two objects, such as is and is not.</li>\n",
    "\n",
    "<p>Here are some examples providing a comprehensive overview of various operators in Python and demonstrate their usage in different contexts.</p>"
   ]
  },
  {
   "cell_type": "code",
   "execution_count": 8,
   "metadata": {},
   "outputs": [
    {
     "name": "stdout",
     "output_type": "stream",
     "text": [
      "Arithmetic operators:\n",
      "Addition: 13\n",
      "Subtraction: 7\n",
      "Multiplication: 30\n",
      "Division: 3.3333333333333335\n",
      "Modulus: 1\n",
      "\n",
      "Comparison operators:\n",
      "Equal: False\n",
      "Not equal: True\n",
      "Greater than: False\n",
      "Less than: True\n",
      "\n",
      "Logical operators:\n",
      "Logical AND: False\n",
      "Logical OR: True\n",
      "Logical NOT: False\n",
      "\n",
      "Assignment operators:\n",
      "Updated value of num: 6.0\n",
      "\n",
      "Membership operators:\n",
      "Check if 3 is in numbers: True\n",
      "Check if 6 is not in numbers: True\n",
      "\n",
      "Identity operators:\n",
      "Check if x is y: True\n",
      "Check if x is not z: True\n"
     ]
    }
   ],
   "source": [
    "# Arithmetic operators\n",
    "x = 10\n",
    "y = 3\n",
    "addition = x + y  # Addition operator\n",
    "subtraction = x - y  # Subtraction operator\n",
    "multiplication = x * y  # Multiplication operator\n",
    "division = x / y  # Division operator\n",
    "modulus = x % y  # Modulus operator\n",
    "\n",
    "print('Arithmetic operators:')\n",
    "print('Addition:', addition)\n",
    "print('Subtraction:', subtraction)\n",
    "print('Multiplication:', multiplication)\n",
    "print('Division:', division)\n",
    "print('Modulus:', modulus)\n",
    "print()\n",
    "\n",
    "# Comparison operators\n",
    "a = 5\n",
    "b = 8\n",
    "equal = a == b  # Equal to operator\n",
    "not_equal = a != b  # Not equal to operator\n",
    "greater_than = a > b  # Greater than operator\n",
    "less_than = a < b  # Less than operator\n",
    "\n",
    "print('Comparison operators:')\n",
    "print('Equal:', equal)\n",
    "print('Not equal:', not_equal)\n",
    "print('Greater than:', greater_than)\n",
    "print('Less than:', less_than)\n",
    "print()\n",
    "\n",
    "# Logical operators\n",
    "p = True\n",
    "q = False\n",
    "logical_and = p and q  # Logical AND operator\n",
    "logical_or = p or q  # Logical OR operator\n",
    "logical_not = not p  # Logical NOT operator\n",
    "\n",
    "print('Logical operators:')\n",
    "print('Logical AND:', logical_and)\n",
    "print('Logical OR:', logical_or)\n",
    "print('Logical NOT:', logical_not)\n",
    "print()\n",
    "\n",
    "# Assignment operators\n",
    "num = 10\n",
    "num += 5  # Addition assignment operator\n",
    "num -= 3  # Subtraction assignment operator\n",
    "num *= 2  # Multiplication assignment operator\n",
    "num /= 4  # Division assignment operator\n",
    "\n",
    "print('Assignment operators:')\n",
    "print('Updated value of num:', num)\n",
    "print()\n",
    "\n",
    "# Membership operators\n",
    "numbers = [1, 2, 3, 4, 5]\n",
    "check1 = 3 in numbers  # Membership operator: check if 3 is in numbers\n",
    "check2 = 6 not in numbers  # Membership operator: check if 6 is not in numbers\n",
    "\n",
    "print('Membership operators:')\n",
    "print('Check if 3 is in numbers:', check1)\n",
    "print('Check if 6 is not in numbers:', check2)\n",
    "print()\n",
    "\n",
    "# Identity operators\n",
    "x = 10\n",
    "y = 10\n",
    "z = 15\n",
    "\n",
    "identity1 = x is y  # Identity operator: check if x is the same object as y\n",
    "identity2 = x is not z  # Identity operator: check if x is not the same object as z\n",
    "\n",
    "print('Identity operators:')\n",
    "print('Check if x is y:', identity1)\n",
    "print('Check if x is not z:', identity2)\n"
   ]
  },
  {
   "cell_type": "markdown",
   "metadata": {},
   "source": [
    "- <p>The first set of examples showcases arithmetic operators, which perform basic mathematical operations such as addition, subtraction, multiplication, division, and modulus. The values of <code>x</code> and <code>y</code> are used to calculate the results using these operators.</p>\n",
    "- <p>The second set of examples highlights comparison operators, which compare two values and return a Boolean result. The examples demonstrate equal to, not equal to, greater than, and less than operators. The results of the comparisons are stored in variables.</p>\n",
    "- <p>The third set of examples demonstrates logical operators, which combine Boolean values and return a Boolean result. The examples show logical AND, logical OR, and logical NOT operators in action, using Boolean variables <code>p</code> and <code>q</code>.</p>\n",
    "- <p>The fourth set of examples illustrates assignment operators, which assign values to variables. The examples show addition, subtraction, multiplication, and division assignment operators, which perform the corresponding operation and update the value of the variable.</p>\n",
    "- <p>The fifth set of examples showcases membership operators, which test if a value is a member of a sequence. The examples use the membership operator <code>in</code> and <code>not in</code> to check if certain values are present or not present in a list.</p>\n",
    "- <p>The final set of examples demonstrates identity operators, which compare the identity of two objects. The examples use the identity operators <code>is</code> and <code>is not</code> to check if variables refer to the same object or not.</p>"
   ]
  },
  {
   "cell_type": "markdown",
   "metadata": {},
   "source": [
    "## Data Types in Python\n",
    "<p>Python is a dynamically typed language, which means that variables can hold values of different types. Understanding the different data types in Python is crucial for effectively working with variables and expressions. Some common data types in Python include:</p>\n",
    "\n",
    "<li>Numeric types: Integers (int), floating-point numbers (float), and complex numbers (complex).</li>\n",
    "<li>Boolean type: Represents the truth values True and False.</li>\n",
    "<li>Strings: Sequences of characters, enclosed in single quotes ('') or double quotes (\"\").</li>\n",
    "<li>Lists: Ordered collections of items, enclosed in square brackets ([]).</li>\n",
    "<li>Tuples: Similar to lists, but immutable (cannot be modified), enclosed in parentheses ().</li>\n",
    "<li>Dictionaries: Key-value pairs, enclosed in curly braces ({}) with each pair separated by a colon (:).</li>\n",
    "\n",
    "<p>Here are examples that provide a comprehensive overview of different data types in Python and demonstrate their usage with variables.</p>"
   ]
  },
  {
   "cell_type": "code",
   "execution_count": 9,
   "metadata": {},
   "outputs": [
    {
     "name": "stdout",
     "output_type": "stream",
     "text": [
      "Numeric types:\n",
      "Integer: 10\n",
      "Float: 3.14\n",
      "Complex: (2+3j)\n",
      "\n",
      "Boolean type:\n",
      "True: True\n",
      "False: False\n",
      "\n",
      "Strings:\n",
      "Message: Hello, World!\n",
      "Name: Joj\n",
      "\n",
      "Lists:\n",
      "Fruits: ['apple', 'banana', 'orange']\n",
      "Numbers: [1, 2, 3, 4, 5]\n",
      "\n",
      "Tuples:\n",
      "Coordinates: (10, 20)\n",
      "Colors: ('red', 'green', 'blue')\n",
      "\n",
      "Dictionaries:\n",
      "Student: {'name': 'Joj', 'age': 25, 'grade': 'A'}\n",
      "Employee: {'name': 'John', 'age': 30, 'position': 'Manager'}\n"
     ]
    }
   ],
   "source": [
    "# Numeric types\n",
    "integer_num = 10  # Integer\n",
    "float_num = 3.14  # Float\n",
    "complex_num = 2 + 3j  # Complex\n",
    "\n",
    "print('Numeric types:')\n",
    "print('Integer:', integer_num)\n",
    "print('Float:', float_num)\n",
    "print('Complex:', complex_num)\n",
    "print()\n",
    "\n",
    "# Boolean type\n",
    "is_true = True\n",
    "is_false = False\n",
    "\n",
    "print('Boolean type:')\n",
    "print('True:', is_true)\n",
    "print('False:', is_false)\n",
    "print()\n",
    "\n",
    "# Strings\n",
    "message = \"Hello, World!\"\n",
    "name = 'Joj'\n",
    "\n",
    "print('Strings:')\n",
    "print('Message:', message)\n",
    "print('Name:', name)\n",
    "print()\n",
    "\n",
    "# Lists\n",
    "fruits = ['apple', 'banana', 'orange']\n",
    "numbers = [1, 2, 3, 4, 5]\n",
    "\n",
    "print('Lists:')\n",
    "print('Fruits:', fruits)\n",
    "print('Numbers:', numbers)\n",
    "print()\n",
    "\n",
    "# Tuples\n",
    "coordinates = (10, 20)\n",
    "colors = ('red', 'green', 'blue')\n",
    "\n",
    "print('Tuples:')\n",
    "print('Coordinates:', coordinates)\n",
    "print('Colors:', colors)\n",
    "print()\n",
    "\n",
    "# Dictionaries\n",
    "student = {'name': 'Joj', 'age': 25, 'grade': 'A'}\n",
    "employee = {'name': 'John', 'age': 30, 'position': 'Manager'}\n",
    "\n",
    "print('Dictionaries:')\n",
    "print('Student:', student)\n",
    "print('Employee:', employee)\n"
   ]
  },
  {
   "cell_type": "markdown",
   "metadata": {},
   "source": [
    "- <p>The first set of examples showcases numeric types, including integers, floating-point numbers, and complex numbers. Variables are assigned values of these types, and their contents are printed.</p>\n",
    "- <p>The second set of examples demonstrates the Boolean type, which represents truth values True and False. Variables are assigned boolean values, and their contents are printed.</p>\n",
    "- <p>The third set of examples focuses on strings, which are sequences of characters. Variables are assigned string values, and their contents are printed.</p>\n",
    "- <p>The fourth set of examples highlights lists, which are ordered collections of items. Variables are assigned lists of different elements, and their contents are printed.</p>\n",
    "- <p>The fifth set of examples showcases tuples, which are similar to lists but immutable (cannot be modified). Variables are assigned tuples of values, and their contents are printed.</p>\n",
    "- <p>The final set of examples demonstrates dictionaries, which store key-value pairs. Variables are assigned dictionaries with different key-value pairs, and their contents are printed.</p>"
   ]
  }
 ],
 "metadata": {
  "kernelspec": {
   "display_name": ".mlenv",
   "language": "python",
   "name": "python3"
  },
  "language_info": {
   "codemirror_mode": {
    "name": "ipython",
    "version": 3
   },
   "file_extension": ".py",
   "mimetype": "text/x-python",
   "name": "python",
   "nbconvert_exporter": "python",
   "pygments_lexer": "ipython3",
   "version": "3.10.11"
  },
  "orig_nbformat": 4
 },
 "nbformat": 4,
 "nbformat_minor": 2
}
