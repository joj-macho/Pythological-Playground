{
 "cells": [
  {
   "attachments": {},
   "cell_type": "markdown",
   "metadata": {},
   "source": [
    "# Python Numeric Data Types Examples"
   ]
  },
  {
   "cell_type": "markdown",
   "metadata": {},
   "source": [
    "## Integers\n",
    "<p>Integers are whole numbers without decimal points. That is, they never have a fractional, or decimal, part and should only be used for data that is a count.</p>\n",
    "<p>You can add (+), subtract (-), multiply (*), and divide (/) integers in Python.</p>\n",
    "\n",
    "<p>Here are examples that illustrate the usage of integers for counting, calculations, boolean operations, and utilizing integer-specific functions. Integers are suitable for scenarios involving discrete values and whole numbers without decimal points.</p>"
   ]
  },
  {
   "cell_type": "code",
   "execution_count": 1,
   "metadata": {},
   "outputs": [
    {
     "name": "stdout",
     "output_type": "stream",
     "text": [
      "Counting Apples Output: 7\n",
      "Calculating Areas Output: 15\n",
      "Checking Even or Odd Output: False\n",
      "Integer Division Output: 3\n",
      "Integer-Specific Functions, abs() function, Output: 5\n",
      "Integer-Specific Functions, max() function, Output: 8\n",
      "Integer-Specific Functions, min() function, Output: -5\n"
     ]
    }
   ],
   "source": [
    "# Example 1: Counting Apples\n",
    "total_apples = 10\n",
    "eaten_apples = 3\n",
    "remaining_apples = total_apples - eaten_apples\n",
    "print('Counting Apples Output:', remaining_apples)\n",
    "\n",
    "# Example 2: Calculating Areas\n",
    "length = 5\n",
    "width = 3\n",
    "area = length * width\n",
    "print('Calculating Areas Output:', area)\n",
    "\n",
    "# Example 3: Checking Even or Odd\n",
    "number = 7\n",
    "is_even = number % 2 == 0\n",
    "print('Checking Even or Odd Output:', is_even)\n",
    "\n",
    "# Example 4: Integer Division\n",
    "dividend = 10\n",
    "divisor = 3\n",
    "quotient = dividend // divisor\n",
    "print('Integer Division Output:', quotient)\n",
    "\n",
    "# Example 5: Using Integer-Specific Functions\n",
    "num1 = -5\n",
    "num2 = 8\n",
    "absolute_value = abs(num1)\n",
    "maximum_value = max(num1, num2)\n",
    "minimum_value = min(num1, num2)\n",
    "print('Integer-Specific Functions, abs() function, Output:', absolute_value)\n",
    "print('Integer-Specific Functions, max() function, Output:', maximum_value)\n",
    "print('Integer-Specific Functions, min() function, Output:', minimum_value)"
   ]
  },
  {
   "cell_type": "markdown",
   "metadata": {},
   "source": [
    "\n",
    "- <p>Example 1 demonstrates subtracting integers to calculate the remaining number of apples after some have been eaten.</p>\n",
    "- <p>Example 2 shows how to calculate the area of a rectangle using integers for the length and width.</p>\n",
    "- <p>Example 3 checks whether a given number is even or odd by using the modulo operator.</p>\n",
    "- <p>Example 4 performs integer division to find the quotient without the remainder.</p>\n",
    "- <p>Example 5 utilizes integer-specific functions such as <code>abs()</code>, <code>max()</code>, and <code>min()</code> to obtain the absolute value, maximum value, and minimum value respectively.</p>\n"
   ]
  },
  {
   "cell_type": "markdown",
   "metadata": {},
   "source": [
    "## Floating-Point Numbers\n",
    "<p>Python calls any number with a decimal point a float. This term is used in most programming languages, and it refers to the fact that a decimal point can appear at any position in a number. Every programming language must be carefully designed to properly manage decimal numbers so numbers behave appropriately, no matter where the decimal point appears.</p>\n",
    "<p>Floating-point numbers are a way to represent real numbers in computer memory using a finite digital precision. In other words, while they are supposed to represent real numbers, they can't represent them all perfectly.  The finite representation of floating-point numbers can lead to unexpected results and small discrepancies in calculations. It's important to be aware of these precision issues when working with floating-point numbers and perform appropriate rounding or handling when necessary.</p>\n",
    "\n",
    "<p>Here are examples that demonstrate the use of floating-point numbers in scenarios such as calculating areas, measuring speed, utilizing floating-point-specific functions, and the inherent limitations of representing real numbers with finite precision in computer memory.</p>\n"
   ]
  },
  {
   "cell_type": "code",
   "execution_count": 2,
   "metadata": {},
   "outputs": [
    {
     "name": "stdout",
     "output_type": "stream",
     "text": [
      "Calculating Areas Output: 10.35\n",
      "Calculating Speed Output: 71.64285714285714\n",
      "Floating-Point-Specific Functions, round(), Output: 3.142\n",
      "Floating-Point-Specific Functions, format(), Output: 2.72\n",
      "Addition Precision Output: 0.30000000000000004\n",
      "Multiplication Precision Output: 0.30000000000000004\n",
      "Floating-Point Accuracy in Calculation Output: 1.0\n"
     ]
    }
   ],
   "source": [
    "# Example 1: Calculating Areas\n",
    "length = 4.5\n",
    "width = 2.3\n",
    "area = length * width\n",
    "print('Calculating Areas Output:', area)\n",
    "\n",
    "# Example 2: Calculating Speed\n",
    "distance = 250.75\n",
    "time = 3.5\n",
    "speed = distance / time\n",
    "print('Calculating Speed Output:', speed)\n",
    "\n",
    "# Example 3: Using Floating-Point-Specific Functions\n",
    "num1 = 3.14159\n",
    "num2 = 2.71828\n",
    "rounded_value = round(num1, 3)\n",
    "formatted_value = \"{:.2f}\".format(num2)\n",
    "print('Floating-Point-Specific Functions, round(), Output:', rounded_value)\n",
    "print('Floating-Point-Specific Functions, format(), Output:', formatted_value)\n",
    "\n",
    "# Example 4.1: Precision in Floating-Point Addition\n",
    "result = 0.2 + 0.1\n",
    "print('Addition Precision Output:', result)\n",
    "\n",
    "# Example 4.2: Precision in Floating-Point Multiplication\n",
    "product = 3 * 0.1\n",
    "print('Multiplication Precision Output:', product)\n",
    "\n",
    "# Example 4.3: Floating-Point Accuracy in Calculation\n",
    "value1 = 1.1111111111111111\n",
    "value2 = 0.1111111111111111\n",
    "result = value1 - value2\n",
    "print('Floating-Point Accuracy in Calculation Output:', result)"
   ]
  },
  {
   "cell_type": "markdown",
   "metadata": {},
   "source": [
    "\n",
    "\n",
    "- <p>Example 1 calculates the area by multiplying the length and width of a rectangle, resulting in a floating-point number.</p>\n",
    "- <p>Example 2 calculates the speed by dividing the distance traveled by the time taken, resulting in a floating-point number.</p>\n",
    "- <p>Example 3 showcases the use of floating-point-specific functions. The <code>round()</code> function rounds a floating-point number to a specified number of decimal places, while the <code>format()</code> method formats a floating-point number to a specific number of decimal places.</p>\n",
    "- <p>Example 4.1 demonstrates the precision issue in floating-point addition. Adding 0.2 and 0.1 should ideally result in 0.3, but due to the finite precision of floating-point representation, the actual result includes a small rounding error.</p>\n",
    "- <p>Example 4.2 illustrates the precision issue in floating-point multiplication. Multiplying 3 and 0.1 should yield 0.3, but once again, the limited precision leads to a slightly different result.</p>\n",
    "- <p>Example 4.3 highlights the floating-point accuracy concern in calculations. Subtracting value2 from value1 should yield exactly 1. However, due to the finite precision of floating-point numbers, a small rounding error occurs, resulting in a slightly different value.</p>\n"
   ]
  },
  {
   "cell_type": "markdown",
   "metadata": {},
   "source": [
    "\n",
    "## Complex Numbers\n",
    "<p>Complex numbers consist of a real part and an imaginary part. Complex numbers are denoted using two floats: one for the real part and one for the complex part, multiplied by <code>1j</code>. The one is necessary so that Python knows you are not referring to a variable named j. Also, when Python prints complex variables, it typically surrounds them in parentheses.</p>\n",
    "\n",
    "<p>Complex numbers are useful in various mathematical and scientific applications where real and imaginary components need to be considered. Python provides robust support for complex numbers, enabling calculations and manipulations involving both the real and imaginary parts.</p>\n",
    "\n",
    "<p>Here are some examples of working with complex numbers:</p>\n"
   ]
  },
  {
   "cell_type": "code",
   "execution_count": 3,
   "metadata": {},
   "outputs": [
    {
     "name": "stdout",
     "output_type": "stream",
     "text": [
      "Complex Number Addition (2+2j)\n",
      "Complex Number Subtraction (-2+8j)\n",
      "Complex Number Multiplication (-5-4j)\n",
      "Complex Number Division (-3+2j)\n",
      "Complex-Specific Functions Square Root (1.6741492280355401+0.8959774761298381j)\n",
      "Complex-Specific Functions Exponent (0.5403023058681398-0.8414709848078965j)\n",
      "Complex-Specific Functions Sin  (-56.16227422023235+48.50245524177091j)\n",
      "Complex-Specific Functions Cos (-48.506859457844584-56.15717492513018j)\n"
     ]
    }
   ],
   "source": [
    "# Example 1: Initializing Complex Variables\n",
    "z1 = 2 + 3j\n",
    "z2 = -1j\n",
    "z3 = complex(4, -5)\n",
    "\n",
    "# Example 2: Arithmetic Operations with Complex Numbers\n",
    "result_add = z1 + z2\n",
    "result_sub = z1 - z3\n",
    "result_mul = z2 * z3\n",
    "result_div = z1 / z2\n",
    "\n",
    "# Example 3: Complex-Specific Functions and Methods\n",
    "import cmath\n",
    "sqrt_result = cmath.sqrt(z1)\n",
    "exp_result = cmath.exp(z2)\n",
    "sin_result = cmath.sin(z3)\n",
    "cos_result = cmath.cos(z3)\n",
    "\n",
    "print('Complex Number Addition', result_add)\n",
    "print('Complex Number Subtraction', result_sub)\n",
    "print('Complex Number Multiplication', result_mul)\n",
    "print('Complex Number Division', result_div)\n",
    "print('Complex-Specific Functions Square Root', sqrt_result)\n",
    "print('Complex-Specific Functions Exponent', exp_result)\n",
    "print('Complex-Specific Functions Sin ', sin_result)\n",
    "print('Complex-Specific Functions Cos', cos_result)"
   ]
  },
  {
   "cell_type": "markdown",
   "metadata": {},
   "source": [
    "\n",
    "- <p>Example 1 demonstrates how to initialize complex variables. Complex numbers are created by combining a real part and an imaginary part using the syntax <code>a + bj</code>. The imaginary unit <code>j</code> is multiplied by the imaginary part.</p>\n",
    "- <p>Example 2 showcases arithmetic operations with complex numbers. Addition, subtraction, multiplication, and division can be performed between complex numbers, resulting in new complex numbers.</p>\n",
    "- <p>Example 3 highlights the use of complex-specific functions and methods. The <code>cmath</code> module is imported to access functions such as <code>sqrt</code>, <code>exp</code>, <code>sin</code>, and <code>cos</code>. These functions allow performing calculations specifically designed for complex numbers.</p>\n"
   ]
  },
  {
   "cell_type": "markdown",
   "metadata": {},
   "source": [
    "\n",
    "## Numeric Data Type Conversion and Type Checking\n",
    "<p>Python allows you to convert between different numeric data types using implicit or explicit type conversion. Implicit type conversion occurs automatically when Python converts a value from one type to another without any explicit instructions. Explicit type conversion, also known as type casting, involves manually converting a value from one type to another using specific functions or methods.</p>\n",
    "<p>To determine the type of a numeric value in Python, you can use the <code>type()</code> function. This function returns the type of the specified value.</p>\n",
    "\n",
    "<p>Here are a few examples of converting between different numeric types and using the <code>type()</code> function for type checking:</p>\n"
   ]
  },
  {
   "cell_type": "code",
   "execution_count": 4,
   "metadata": {},
   "outputs": [
    {
     "name": "stdout",
     "output_type": "stream",
     "text": [
      "Implicit type conversion (int + float = float) 7.5 ,type = <class 'float'>\n",
      "Original Integer a = 10 ,type = <class 'int'>\n",
      "Integer a to Float: 10.0 ,type = <class 'float'>\n",
      "Integer a to String: 10 ,type = <class 'str'>\n",
      "Integer a to Complex Number: (10+0j) ,type = <class 'complex'>\n"
     ]
    }
   ],
   "source": [
    "# Implicit type conversion\n",
    "x = 5\n",
    "y = 2.5\n",
    "result = x + y\n",
    "print('Implicit type conversion (int + float = float)', result, ',type =', type(result))\n",
    "\n",
    "# Explicit type conversion (type casting)\n",
    "a = 10\n",
    "b = float(a)  # int to float\n",
    "c = str(a)    # int to string\n",
    "d = complex(a)  # int to complex\n",
    "print('Original Integer a =', a, ',type =', type(a))\n",
    "print('Integer a to Float:', b, ',type =', type(b))\n",
    "print('Integer a to String:', c, ',type =', type(c))\n",
    "print('Integer a to Complex Number:', d, ',type =', type(d))"
   ]
  },
  {
   "cell_type": "markdown",
   "metadata": {},
   "source": [
    "\n",
    "- Example 1 above demonstrates how to perform implicit type conversion by adding an integer (<code>x</code>) and a float (<code>y</code>), which results in a float value.\n",
    "\n",
    "-  The second example demonstrates explicit type conversion by converting an integer (<code>a</code>) to a float (<code>b</code>), a string (<code>c</code>), and a complex number (<code>d</code>).\n",
    "\n",
    "-  Also, the examples above use the <code>type()</code> function to check the types of variables <code>result</code>, <code>a</code>, <code>b</code>, <code>c</code>, and <code>d</code>. The output shows the respective types: <code>float</code>, <code>int</code>, <code>float</code>, <code>str</code> and <code>complex</code>.\n"
   ]
  },
  {
   "cell_type": "markdown",
   "metadata": {},
   "source": [
    "### Underscores in Numbers\n",
    "<p>When working with long numbers, you can enhance their readability by grouping digits using underscores. Python allows you to use underscores as visual separators in numbers without affecting their values. Let's explore this feature:</p>\n"
   ]
  },
  {
   "cell_type": "code",
   "execution_count": 5,
   "metadata": {},
   "outputs": [
    {
     "name": "stdout",
     "output_type": "stream",
     "text": [
      "Speed of Light: 299792458\n",
      "World Population 7900000000\n",
      "Annual Revenue 1250000000.5\n",
      "A Large Number 9999999999999999999999999999999999\n"
     ]
    }
   ],
   "source": [
    "\n",
    "# Example: Using underscores in numbers\n",
    "speed_of_light = 299_792_458\n",
    "population = 7_900_000_000\n",
    "annual_revenue = 1_250_000_000.50\n",
    "large_number = 9_999_999_999_999_999_999_999_999_999_999_999\n",
    "\n",
    "print('Speed of Light:', speed_of_light)\n",
    "print('World Population', population)  # 7,900,000,000\n",
    "print('Annual Revenue', annual_revenue)  # 1,250,000,000.50\n",
    "print('A Large Number', large_number)  # 9,999,999,999,999,999,999,999,999,999,999\n"
   ]
  },
  {
   "cell_type": "markdown",
   "metadata": {},
   "source": [
    "\n",
    "In the above examples, underscores are used to group digits in large numbers, making them easier to read and understand. The underscores do not affect the value of the numbers, but they improve the visual representation of the numeric data."
   ]
  }
 ],
 "metadata": {
  "kernelspec": {
   "display_name": "Python 3",
   "language": "python",
   "name": "python3"
  },
  "language_info": {
   "codemirror_mode": {
    "name": "ipython",
    "version": 3
   },
   "file_extension": ".py",
   "mimetype": "text/x-python",
   "name": "python",
   "nbconvert_exporter": "python",
   "pygments_lexer": "ipython3",
   "version": "3.10.11"
  },
  "orig_nbformat": 4
 },
 "nbformat": 4,
 "nbformat_minor": 2
}
